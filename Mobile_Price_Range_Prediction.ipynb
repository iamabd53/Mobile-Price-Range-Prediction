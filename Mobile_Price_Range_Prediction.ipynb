{
  "nbformat": 4,
  "nbformat_minor": 0,
  "metadata": {
    "colab": {
      "name": "Mobile Price Range Prediction",
      "provenance": [],
      "collapsed_sections": [],
      "toc_visible": true,
      "mount_file_id": "1PfOdYhHxY8MTpNUxZgEhhcIxvFU7_Vuf",
      "authorship_tag": "ABX9TyMdJ/z3F0foLTYxyxpDjkJ+",
      "include_colab_link": true
    },
    "kernelspec": {
      "name": "python3",
      "display_name": "Python 3"
    },
    "language_info": {
      "name": "python"
    }
  },
  "cells": [
    {
      "cell_type": "markdown",
      "metadata": {
        "id": "view-in-github",
        "colab_type": "text"
      },
      "source": [
        "<a href=\"https://colab.research.google.com/github/iamabd53/Mobile-Price-Range-Prediction/blob/main/Mobile_Price_Range_Prediction.ipynb\" target=\"_parent\"><img src=\"https://colab.research.google.com/assets/colab-badge.svg\" alt=\"Open In Colab\"/></a>"
      ]
    },
    {
      "cell_type": "markdown",
      "source": [
        "### **Problem Statement**"
      ],
      "metadata": {
        "id": "ouFVULJWBado"
      }
    },
    {
      "cell_type": "markdown",
      "source": [
        "***In the competitive mobile phone market companies want\n",
        "to understand sales data of mobile phones and factors which drive the prices.\n",
        "The objective is to find out some relation between features of a mobile phone(eg:- RAM,\n",
        "Internal Memory, etc) and its selling price. In this problem, we do not have to predict the\n",
        "actual price but a price range indicating how high the price is.***"
      ],
      "metadata": {
        "id": "UAUY2hNLxhrp"
      }
    },
    {
      "cell_type": "markdown",
      "source": [
        "Data Description -\n",
        "*  Battery_power - Total energy a battery can store in one time measured in mAh\n",
        "*  Blue - Has bluetooth or not\n",
        "*  Clock_speed - speed at which microprocessor executes instructions\n",
        "*  Dual_sim - Has dual sim support or not\n",
        "*  Fc - Front Camera mega pixels\n",
        "*  Four_g - Has 4G or not\n",
        "*  Int_memory - Internal Memory in Gigabytes\n",
        "*  M_dep - Mobile Depth in cm\n",
        "*  Mobile_wt - Weight of mobile phone\n",
        "*  N_cores - Number of cores of processor\n",
        "*  Pc - Primary Camera mega pixels\n",
        "*  Px_heig\n",
        "   Px_height - Pixel Resolution Height\n",
        "\n",
        "   Px_width - Pixel Resolution Width\n",
        "\n",
        "   Ram - Random Access Memory in Mega Bytes\n",
        "\n",
        "   Sc_h - Screen Height of mobile in cm\n",
        "\n",
        "   Sc_w - Screen Width of mobile in cm\n",
        "\n",
        "   Talk_time - longest time that a single battery charge will last\n",
        "\n",
        "   Three_g - Has 3G or not\n",
        "\n",
        "   Touch_screen - Has touch screen or not\n",
        "\n",
        "   Wifi - Has wifi or not\n",
        "\n",
        "   Price_range - This is the target variable with value of 0(low cost), 1       (medium cost),\n",
        "   2(high cost) and 3(very high cost)."
      ],
      "metadata": {
        "id": "Q--crtJt5i-6"
      }
    },
    {
      "cell_type": "markdown",
      "source": [
        "### **Import and installing models**"
      ],
      "metadata": {
        "id": "RTmyMWOa2Hwf"
      }
    },
    {
      "cell_type": "code",
      "execution_count": 68,
      "metadata": {
        "id": "PfE-TBus4S10"
      },
      "outputs": [],
      "source": [
        "import pandas as pd\n",
        "import numpy as np\n",
        "import warnings\n",
        "warnings.filterwarnings('ignore')\n",
        "\n",
        "import matplotlib.pyplot as plt\n",
        "import seaborn as sns\n",
        "%matplotlib inline\n",
        "from sklearn.model_selection import RandomizedSearchCV, GridSearchCV\n",
        "# import lime\n",
        "# import lime.lime_tabular\n",
        "from sklearn.tree import DecisionTreeClassifier\n",
        "from sklearn.linear_model import LogisticRegression\n",
        "from sklearn.neighbors import  KNeighborsClassifier\n",
        "from sklearn.ensemble  import  BaggingClassifier\n",
        "from sklearn.ensemble import RandomForestClassifier\n",
        "from sklearn.ensemble import GradientBoostingClassifier\n",
        "from sklearn.ensemble  import  VotingClassifier\n",
        "from sklearn.neighbors import  KNeighborsClassifier\n",
        "from sklearn.svm import SVC\n",
        "import xgboost\n",
        "from sklearn.ensemble import StackingClassifier\n"
      ]
    },
    {
      "cell_type": "code",
      "source": [
        "!pip3 install lime"
      ],
      "metadata": {
        "colab": {
          "base_uri": "https://localhost:8080/"
        },
        "id": "U3ESc3oDqSxi",
        "outputId": "cb80f185-b1b5-40af-8086-cc594be6f7e3"
      },
      "execution_count": 69,
      "outputs": [
        {
          "output_type": "stream",
          "name": "stdout",
          "text": [
            "Looking in indexes: https://pypi.org/simple, https://us-python.pkg.dev/colab-wheels/public/simple/\n",
            "Requirement already satisfied: lime in /usr/local/lib/python3.7/dist-packages (0.2.0.1)\n",
            "Requirement already satisfied: scikit-learn>=0.18 in /usr/local/lib/python3.7/dist-packages (from lime) (1.0.2)\n",
            "Requirement already satisfied: matplotlib in /usr/local/lib/python3.7/dist-packages (from lime) (3.2.2)\n",
            "Requirement already satisfied: tqdm in /usr/local/lib/python3.7/dist-packages (from lime) (4.64.0)\n",
            "Requirement already satisfied: scikit-image>=0.12 in /usr/local/lib/python3.7/dist-packages (from lime) (0.18.3)\n",
            "Requirement already satisfied: numpy in /usr/local/lib/python3.7/dist-packages (from lime) (1.21.6)\n",
            "Requirement already satisfied: scipy in /usr/local/lib/python3.7/dist-packages (from lime) (1.4.1)\n",
            "Requirement already satisfied: imageio>=2.3.0 in /usr/local/lib/python3.7/dist-packages (from scikit-image>=0.12->lime) (2.4.1)\n",
            "Requirement already satisfied: tifffile>=2019.7.26 in /usr/local/lib/python3.7/dist-packages (from scikit-image>=0.12->lime) (2021.11.2)\n",
            "Requirement already satisfied: networkx>=2.0 in /usr/local/lib/python3.7/dist-packages (from scikit-image>=0.12->lime) (2.6.3)\n",
            "Requirement already satisfied: PyWavelets>=1.1.1 in /usr/local/lib/python3.7/dist-packages (from scikit-image>=0.12->lime) (1.3.0)\n",
            "Requirement already satisfied: pillow!=7.1.0,!=7.1.1,>=4.3.0 in /usr/local/lib/python3.7/dist-packages (from scikit-image>=0.12->lime) (7.1.2)\n",
            "Requirement already satisfied: pyparsing!=2.0.4,!=2.1.2,!=2.1.6,>=2.0.1 in /usr/local/lib/python3.7/dist-packages (from matplotlib->lime) (3.0.9)\n",
            "Requirement already satisfied: python-dateutil>=2.1 in /usr/local/lib/python3.7/dist-packages (from matplotlib->lime) (2.8.2)\n",
            "Requirement already satisfied: cycler>=0.10 in /usr/local/lib/python3.7/dist-packages (from matplotlib->lime) (0.11.0)\n",
            "Requirement already satisfied: kiwisolver>=1.0.1 in /usr/local/lib/python3.7/dist-packages (from matplotlib->lime) (1.4.2)\n",
            "Requirement already satisfied: typing-extensions in /usr/local/lib/python3.7/dist-packages (from kiwisolver>=1.0.1->matplotlib->lime) (4.2.0)\n",
            "Requirement already satisfied: six>=1.5 in /usr/local/lib/python3.7/dist-packages (from python-dateutil>=2.1->matplotlib->lime) (1.15.0)\n",
            "Requirement already satisfied: joblib>=0.11 in /usr/local/lib/python3.7/dist-packages (from scikit-learn>=0.18->lime) (1.1.0)\n",
            "Requirement already satisfied: threadpoolctl>=2.0.0 in /usr/local/lib/python3.7/dist-packages (from scikit-learn>=0.18->lime) (3.1.0)\n"
          ]
        }
      ]
    },
    {
      "cell_type": "code",
      "source": [
        "# !pip3 install lime\n",
        "# !pip3 install xgboost\n",
        "# !pip3 install pandas_profiling --upgrade"
      ],
      "metadata": {
        "id": "zcNhDt62qLD8"
      },
      "execution_count": 70,
      "outputs": []
    },
    {
      "cell_type": "code",
      "source": [
        "df = pd.read_csv('/content/drive/MyDrive/ML project ALMA better/data_mobile_price_range.csv')"
      ],
      "metadata": {
        "id": "FnBZYsJd45jN"
      },
      "execution_count": 71,
      "outputs": []
    },
    {
      "cell_type": "markdown",
      "source": [
        "### **Defination**"
      ],
      "metadata": {
        "id": "V7E10WdHTO_h"
      }
    },
    {
      "cell_type": "code",
      "source": [
        "def ML(model):\n",
        "\n",
        "  model.fit(X_train_scaled,y_train)\n",
        "  y_pred_train = model.predict(X_train_scaled)\n",
        "  y_pred_test = model.predict(X_test_scaled)\n",
        "\n",
        "  # Mean cross val score\n",
        "\n",
        "  from sklearn.model_selection import cross_val_score\n",
        "  scores = cross_val_score(model,X_scaled, y, scoring = 'accuracy', cv = 5)\n",
        "  print(f'cv_mean_score={np.mean(scores)}')\n",
        "\n",
        "  print(f'\\n')\n",
        "\n",
        "  # Cross validate\n",
        "\n",
        "  from sklearn.model_selection import cross_validate\n",
        "  scores = cross_validate(model,X_scaled, y, scoring = 'accuracy', cv = 5, return_train_score=True,return_estimator=True,verbose = 10)\n",
        "  print(f'Cross validate scores={scores}')\n",
        "\n",
        "  print(f'\\n')\n",
        "  # Class\n",
        "\n",
        "  #print(f'Model classes = {model.classes_}')\n",
        "\n",
        "  # Classification Report\n",
        "  print(f'\\n')\n",
        "\n",
        "  from sklearn.metrics import classification_report\n",
        "  print(f'Classification Report = \\n {classification_report(y_pred_test, y_test)}')"
      ],
      "metadata": {
        "id": "Wh5LvzDjTT7s"
      },
      "execution_count": 72,
      "outputs": []
    },
    {
      "cell_type": "markdown",
      "source": [
        "### **Data Description**"
      ],
      "metadata": {
        "id": "qRlA1FJtTdxF"
      }
    },
    {
      "cell_type": "code",
      "source": [
        "cat_df = df[['blue','dual_sim','four_g','three_g','touch_screen','wifi']]\n",
        "num_df = df[['battery_power','clock_speed', 'fc','int_memory','m_dep','mobile_wt','n_cores','pc','px_height','px_width', 'ram', 'sc_h', 'sc_w', 'talk_time']]"
      ],
      "metadata": {
        "id": "5GftX8hs5Izq"
      },
      "execution_count": 73,
      "outputs": []
    },
    {
      "cell_type": "code",
      "source": [
        "df.info()"
      ],
      "metadata": {
        "id": "D2HCBfr4-j7y",
        "colab": {
          "base_uri": "https://localhost:8080/"
        },
        "outputId": "3cd3aef5-ae78-4af2-d1a9-a2252baa944d"
      },
      "execution_count": 74,
      "outputs": [
        {
          "output_type": "stream",
          "name": "stdout",
          "text": [
            "<class 'pandas.core.frame.DataFrame'>\n",
            "RangeIndex: 2000 entries, 0 to 1999\n",
            "Data columns (total 21 columns):\n",
            " #   Column         Non-Null Count  Dtype  \n",
            "---  ------         --------------  -----  \n",
            " 0   battery_power  2000 non-null   int64  \n",
            " 1   blue           2000 non-null   int64  \n",
            " 2   clock_speed    2000 non-null   float64\n",
            " 3   dual_sim       2000 non-null   int64  \n",
            " 4   fc             2000 non-null   int64  \n",
            " 5   four_g         2000 non-null   int64  \n",
            " 6   int_memory     2000 non-null   int64  \n",
            " 7   m_dep          2000 non-null   float64\n",
            " 8   mobile_wt      2000 non-null   int64  \n",
            " 9   n_cores        2000 non-null   int64  \n",
            " 10  pc             2000 non-null   int64  \n",
            " 11  px_height      2000 non-null   int64  \n",
            " 12  px_width       2000 non-null   int64  \n",
            " 13  ram            2000 non-null   int64  \n",
            " 14  sc_h           2000 non-null   int64  \n",
            " 15  sc_w           2000 non-null   int64  \n",
            " 16  talk_time      2000 non-null   int64  \n",
            " 17  three_g        2000 non-null   int64  \n",
            " 18  touch_screen   2000 non-null   int64  \n",
            " 19  wifi           2000 non-null   int64  \n",
            " 20  price_range    2000 non-null   int64  \n",
            "dtypes: float64(2), int64(19)\n",
            "memory usage: 328.2 KB\n"
          ]
        }
      ]
    },
    {
      "cell_type": "code",
      "source": [
        "df.head()"
      ],
      "metadata": {
        "id": "TputeDlk5HE5",
        "colab": {
          "base_uri": "https://localhost:8080/",
          "height": 299
        },
        "outputId": "933bb06e-f68c-4a00-afa7-50353f764245"
      },
      "execution_count": 75,
      "outputs": [
        {
          "output_type": "execute_result",
          "data": {
            "text/plain": [
              "   battery_power  blue  clock_speed  dual_sim  fc  four_g  int_memory  m_dep  \\\n",
              "0            842     0          2.2         0   1       0           7    0.6   \n",
              "1           1021     1          0.5         1   0       1          53    0.7   \n",
              "2            563     1          0.5         1   2       1          41    0.9   \n",
              "3            615     1          2.5         0   0       0          10    0.8   \n",
              "4           1821     1          1.2         0  13       1          44    0.6   \n",
              "\n",
              "   mobile_wt  n_cores  ...  px_height  px_width   ram  sc_h  sc_w  talk_time  \\\n",
              "0        188        2  ...         20       756  2549     9     7         19   \n",
              "1        136        3  ...        905      1988  2631    17     3          7   \n",
              "2        145        5  ...       1263      1716  2603    11     2          9   \n",
              "3        131        6  ...       1216      1786  2769    16     8         11   \n",
              "4        141        2  ...       1208      1212  1411     8     2         15   \n",
              "\n",
              "   three_g  touch_screen  wifi  price_range  \n",
              "0        0             0     1            1  \n",
              "1        1             1     0            2  \n",
              "2        1             1     0            2  \n",
              "3        1             0     0            2  \n",
              "4        1             1     0            1  \n",
              "\n",
              "[5 rows x 21 columns]"
            ],
            "text/html": [
              "\n",
              "  <div id=\"df-75d493d6-a76f-4463-8783-41cfc01b58f0\">\n",
              "    <div class=\"colab-df-container\">\n",
              "      <div>\n",
              "<style scoped>\n",
              "    .dataframe tbody tr th:only-of-type {\n",
              "        vertical-align: middle;\n",
              "    }\n",
              "\n",
              "    .dataframe tbody tr th {\n",
              "        vertical-align: top;\n",
              "    }\n",
              "\n",
              "    .dataframe thead th {\n",
              "        text-align: right;\n",
              "    }\n",
              "</style>\n",
              "<table border=\"1\" class=\"dataframe\">\n",
              "  <thead>\n",
              "    <tr style=\"text-align: right;\">\n",
              "      <th></th>\n",
              "      <th>battery_power</th>\n",
              "      <th>blue</th>\n",
              "      <th>clock_speed</th>\n",
              "      <th>dual_sim</th>\n",
              "      <th>fc</th>\n",
              "      <th>four_g</th>\n",
              "      <th>int_memory</th>\n",
              "      <th>m_dep</th>\n",
              "      <th>mobile_wt</th>\n",
              "      <th>n_cores</th>\n",
              "      <th>...</th>\n",
              "      <th>px_height</th>\n",
              "      <th>px_width</th>\n",
              "      <th>ram</th>\n",
              "      <th>sc_h</th>\n",
              "      <th>sc_w</th>\n",
              "      <th>talk_time</th>\n",
              "      <th>three_g</th>\n",
              "      <th>touch_screen</th>\n",
              "      <th>wifi</th>\n",
              "      <th>price_range</th>\n",
              "    </tr>\n",
              "  </thead>\n",
              "  <tbody>\n",
              "    <tr>\n",
              "      <th>0</th>\n",
              "      <td>842</td>\n",
              "      <td>0</td>\n",
              "      <td>2.2</td>\n",
              "      <td>0</td>\n",
              "      <td>1</td>\n",
              "      <td>0</td>\n",
              "      <td>7</td>\n",
              "      <td>0.6</td>\n",
              "      <td>188</td>\n",
              "      <td>2</td>\n",
              "      <td>...</td>\n",
              "      <td>20</td>\n",
              "      <td>756</td>\n",
              "      <td>2549</td>\n",
              "      <td>9</td>\n",
              "      <td>7</td>\n",
              "      <td>19</td>\n",
              "      <td>0</td>\n",
              "      <td>0</td>\n",
              "      <td>1</td>\n",
              "      <td>1</td>\n",
              "    </tr>\n",
              "    <tr>\n",
              "      <th>1</th>\n",
              "      <td>1021</td>\n",
              "      <td>1</td>\n",
              "      <td>0.5</td>\n",
              "      <td>1</td>\n",
              "      <td>0</td>\n",
              "      <td>1</td>\n",
              "      <td>53</td>\n",
              "      <td>0.7</td>\n",
              "      <td>136</td>\n",
              "      <td>3</td>\n",
              "      <td>...</td>\n",
              "      <td>905</td>\n",
              "      <td>1988</td>\n",
              "      <td>2631</td>\n",
              "      <td>17</td>\n",
              "      <td>3</td>\n",
              "      <td>7</td>\n",
              "      <td>1</td>\n",
              "      <td>1</td>\n",
              "      <td>0</td>\n",
              "      <td>2</td>\n",
              "    </tr>\n",
              "    <tr>\n",
              "      <th>2</th>\n",
              "      <td>563</td>\n",
              "      <td>1</td>\n",
              "      <td>0.5</td>\n",
              "      <td>1</td>\n",
              "      <td>2</td>\n",
              "      <td>1</td>\n",
              "      <td>41</td>\n",
              "      <td>0.9</td>\n",
              "      <td>145</td>\n",
              "      <td>5</td>\n",
              "      <td>...</td>\n",
              "      <td>1263</td>\n",
              "      <td>1716</td>\n",
              "      <td>2603</td>\n",
              "      <td>11</td>\n",
              "      <td>2</td>\n",
              "      <td>9</td>\n",
              "      <td>1</td>\n",
              "      <td>1</td>\n",
              "      <td>0</td>\n",
              "      <td>2</td>\n",
              "    </tr>\n",
              "    <tr>\n",
              "      <th>3</th>\n",
              "      <td>615</td>\n",
              "      <td>1</td>\n",
              "      <td>2.5</td>\n",
              "      <td>0</td>\n",
              "      <td>0</td>\n",
              "      <td>0</td>\n",
              "      <td>10</td>\n",
              "      <td>0.8</td>\n",
              "      <td>131</td>\n",
              "      <td>6</td>\n",
              "      <td>...</td>\n",
              "      <td>1216</td>\n",
              "      <td>1786</td>\n",
              "      <td>2769</td>\n",
              "      <td>16</td>\n",
              "      <td>8</td>\n",
              "      <td>11</td>\n",
              "      <td>1</td>\n",
              "      <td>0</td>\n",
              "      <td>0</td>\n",
              "      <td>2</td>\n",
              "    </tr>\n",
              "    <tr>\n",
              "      <th>4</th>\n",
              "      <td>1821</td>\n",
              "      <td>1</td>\n",
              "      <td>1.2</td>\n",
              "      <td>0</td>\n",
              "      <td>13</td>\n",
              "      <td>1</td>\n",
              "      <td>44</td>\n",
              "      <td>0.6</td>\n",
              "      <td>141</td>\n",
              "      <td>2</td>\n",
              "      <td>...</td>\n",
              "      <td>1208</td>\n",
              "      <td>1212</td>\n",
              "      <td>1411</td>\n",
              "      <td>8</td>\n",
              "      <td>2</td>\n",
              "      <td>15</td>\n",
              "      <td>1</td>\n",
              "      <td>1</td>\n",
              "      <td>0</td>\n",
              "      <td>1</td>\n",
              "    </tr>\n",
              "  </tbody>\n",
              "</table>\n",
              "<p>5 rows × 21 columns</p>\n",
              "</div>\n",
              "      <button class=\"colab-df-convert\" onclick=\"convertToInteractive('df-75d493d6-a76f-4463-8783-41cfc01b58f0')\"\n",
              "              title=\"Convert this dataframe to an interactive table.\"\n",
              "              style=\"display:none;\">\n",
              "        \n",
              "  <svg xmlns=\"http://www.w3.org/2000/svg\" height=\"24px\"viewBox=\"0 0 24 24\"\n",
              "       width=\"24px\">\n",
              "    <path d=\"M0 0h24v24H0V0z\" fill=\"none\"/>\n",
              "    <path d=\"M18.56 5.44l.94 2.06.94-2.06 2.06-.94-2.06-.94-.94-2.06-.94 2.06-2.06.94zm-11 1L8.5 8.5l.94-2.06 2.06-.94-2.06-.94L8.5 2.5l-.94 2.06-2.06.94zm10 10l.94 2.06.94-2.06 2.06-.94-2.06-.94-.94-2.06-.94 2.06-2.06.94z\"/><path d=\"M17.41 7.96l-1.37-1.37c-.4-.4-.92-.59-1.43-.59-.52 0-1.04.2-1.43.59L10.3 9.45l-7.72 7.72c-.78.78-.78 2.05 0 2.83L4 21.41c.39.39.9.59 1.41.59.51 0 1.02-.2 1.41-.59l7.78-7.78 2.81-2.81c.8-.78.8-2.07 0-2.86zM5.41 20L4 18.59l7.72-7.72 1.47 1.35L5.41 20z\"/>\n",
              "  </svg>\n",
              "      </button>\n",
              "      \n",
              "  <style>\n",
              "    .colab-df-container {\n",
              "      display:flex;\n",
              "      flex-wrap:wrap;\n",
              "      gap: 12px;\n",
              "    }\n",
              "\n",
              "    .colab-df-convert {\n",
              "      background-color: #E8F0FE;\n",
              "      border: none;\n",
              "      border-radius: 50%;\n",
              "      cursor: pointer;\n",
              "      display: none;\n",
              "      fill: #1967D2;\n",
              "      height: 32px;\n",
              "      padding: 0 0 0 0;\n",
              "      width: 32px;\n",
              "    }\n",
              "\n",
              "    .colab-df-convert:hover {\n",
              "      background-color: #E2EBFA;\n",
              "      box-shadow: 0px 1px 2px rgba(60, 64, 67, 0.3), 0px 1px 3px 1px rgba(60, 64, 67, 0.15);\n",
              "      fill: #174EA6;\n",
              "    }\n",
              "\n",
              "    [theme=dark] .colab-df-convert {\n",
              "      background-color: #3B4455;\n",
              "      fill: #D2E3FC;\n",
              "    }\n",
              "\n",
              "    [theme=dark] .colab-df-convert:hover {\n",
              "      background-color: #434B5C;\n",
              "      box-shadow: 0px 1px 3px 1px rgba(0, 0, 0, 0.15);\n",
              "      filter: drop-shadow(0px 1px 2px rgba(0, 0, 0, 0.3));\n",
              "      fill: #FFFFFF;\n",
              "    }\n",
              "  </style>\n",
              "\n",
              "      <script>\n",
              "        const buttonEl =\n",
              "          document.querySelector('#df-75d493d6-a76f-4463-8783-41cfc01b58f0 button.colab-df-convert');\n",
              "        buttonEl.style.display =\n",
              "          google.colab.kernel.accessAllowed ? 'block' : 'none';\n",
              "\n",
              "        async function convertToInteractive(key) {\n",
              "          const element = document.querySelector('#df-75d493d6-a76f-4463-8783-41cfc01b58f0');\n",
              "          const dataTable =\n",
              "            await google.colab.kernel.invokeFunction('convertToInteractive',\n",
              "                                                     [key], {});\n",
              "          if (!dataTable) return;\n",
              "\n",
              "          const docLinkHtml = 'Like what you see? Visit the ' +\n",
              "            '<a target=\"_blank\" href=https://colab.research.google.com/notebooks/data_table.ipynb>data table notebook</a>'\n",
              "            + ' to learn more about interactive tables.';\n",
              "          element.innerHTML = '';\n",
              "          dataTable['output_type'] = 'display_data';\n",
              "          await google.colab.output.renderOutput(dataTable, element);\n",
              "          const docLink = document.createElement('div');\n",
              "          docLink.innerHTML = docLinkHtml;\n",
              "          element.appendChild(docLink);\n",
              "        }\n",
              "      </script>\n",
              "    </div>\n",
              "  </div>\n",
              "  "
            ]
          },
          "metadata": {},
          "execution_count": 75
        }
      ]
    },
    {
      "cell_type": "code",
      "source": [
        "df.tail()"
      ],
      "metadata": {
        "colab": {
          "base_uri": "https://localhost:8080/",
          "height": 299
        },
        "id": "8u76lap8Qxnl",
        "outputId": "5de96b2b-2e75-4688-87c6-67c3177d3290"
      },
      "execution_count": 76,
      "outputs": [
        {
          "output_type": "execute_result",
          "data": {
            "text/plain": [
              "      battery_power  blue  clock_speed  dual_sim  fc  four_g  int_memory  \\\n",
              "1995            794     1          0.5         1   0       1           2   \n",
              "1996           1965     1          2.6         1   0       0          39   \n",
              "1997           1911     0          0.9         1   1       1          36   \n",
              "1998           1512     0          0.9         0   4       1          46   \n",
              "1999            510     1          2.0         1   5       1          45   \n",
              "\n",
              "      m_dep  mobile_wt  n_cores  ...  px_height  px_width   ram  sc_h  sc_w  \\\n",
              "1995    0.8        106        6  ...       1222      1890   668    13     4   \n",
              "1996    0.2        187        4  ...        915      1965  2032    11    10   \n",
              "1997    0.7        108        8  ...        868      1632  3057     9     1   \n",
              "1998    0.1        145        5  ...        336       670   869    18    10   \n",
              "1999    0.9        168        6  ...        483       754  3919    19     4   \n",
              "\n",
              "      talk_time  three_g  touch_screen  wifi  price_range  \n",
              "1995         19        1             1     0            0  \n",
              "1996         16        1             1     1            2  \n",
              "1997          5        1             1     0            3  \n",
              "1998         19        1             1     1            0  \n",
              "1999          2        1             1     1            3  \n",
              "\n",
              "[5 rows x 21 columns]"
            ],
            "text/html": [
              "\n",
              "  <div id=\"df-1a44235c-f576-4742-be08-6eed30b779bb\">\n",
              "    <div class=\"colab-df-container\">\n",
              "      <div>\n",
              "<style scoped>\n",
              "    .dataframe tbody tr th:only-of-type {\n",
              "        vertical-align: middle;\n",
              "    }\n",
              "\n",
              "    .dataframe tbody tr th {\n",
              "        vertical-align: top;\n",
              "    }\n",
              "\n",
              "    .dataframe thead th {\n",
              "        text-align: right;\n",
              "    }\n",
              "</style>\n",
              "<table border=\"1\" class=\"dataframe\">\n",
              "  <thead>\n",
              "    <tr style=\"text-align: right;\">\n",
              "      <th></th>\n",
              "      <th>battery_power</th>\n",
              "      <th>blue</th>\n",
              "      <th>clock_speed</th>\n",
              "      <th>dual_sim</th>\n",
              "      <th>fc</th>\n",
              "      <th>four_g</th>\n",
              "      <th>int_memory</th>\n",
              "      <th>m_dep</th>\n",
              "      <th>mobile_wt</th>\n",
              "      <th>n_cores</th>\n",
              "      <th>...</th>\n",
              "      <th>px_height</th>\n",
              "      <th>px_width</th>\n",
              "      <th>ram</th>\n",
              "      <th>sc_h</th>\n",
              "      <th>sc_w</th>\n",
              "      <th>talk_time</th>\n",
              "      <th>three_g</th>\n",
              "      <th>touch_screen</th>\n",
              "      <th>wifi</th>\n",
              "      <th>price_range</th>\n",
              "    </tr>\n",
              "  </thead>\n",
              "  <tbody>\n",
              "    <tr>\n",
              "      <th>1995</th>\n",
              "      <td>794</td>\n",
              "      <td>1</td>\n",
              "      <td>0.5</td>\n",
              "      <td>1</td>\n",
              "      <td>0</td>\n",
              "      <td>1</td>\n",
              "      <td>2</td>\n",
              "      <td>0.8</td>\n",
              "      <td>106</td>\n",
              "      <td>6</td>\n",
              "      <td>...</td>\n",
              "      <td>1222</td>\n",
              "      <td>1890</td>\n",
              "      <td>668</td>\n",
              "      <td>13</td>\n",
              "      <td>4</td>\n",
              "      <td>19</td>\n",
              "      <td>1</td>\n",
              "      <td>1</td>\n",
              "      <td>0</td>\n",
              "      <td>0</td>\n",
              "    </tr>\n",
              "    <tr>\n",
              "      <th>1996</th>\n",
              "      <td>1965</td>\n",
              "      <td>1</td>\n",
              "      <td>2.6</td>\n",
              "      <td>1</td>\n",
              "      <td>0</td>\n",
              "      <td>0</td>\n",
              "      <td>39</td>\n",
              "      <td>0.2</td>\n",
              "      <td>187</td>\n",
              "      <td>4</td>\n",
              "      <td>...</td>\n",
              "      <td>915</td>\n",
              "      <td>1965</td>\n",
              "      <td>2032</td>\n",
              "      <td>11</td>\n",
              "      <td>10</td>\n",
              "      <td>16</td>\n",
              "      <td>1</td>\n",
              "      <td>1</td>\n",
              "      <td>1</td>\n",
              "      <td>2</td>\n",
              "    </tr>\n",
              "    <tr>\n",
              "      <th>1997</th>\n",
              "      <td>1911</td>\n",
              "      <td>0</td>\n",
              "      <td>0.9</td>\n",
              "      <td>1</td>\n",
              "      <td>1</td>\n",
              "      <td>1</td>\n",
              "      <td>36</td>\n",
              "      <td>0.7</td>\n",
              "      <td>108</td>\n",
              "      <td>8</td>\n",
              "      <td>...</td>\n",
              "      <td>868</td>\n",
              "      <td>1632</td>\n",
              "      <td>3057</td>\n",
              "      <td>9</td>\n",
              "      <td>1</td>\n",
              "      <td>5</td>\n",
              "      <td>1</td>\n",
              "      <td>1</td>\n",
              "      <td>0</td>\n",
              "      <td>3</td>\n",
              "    </tr>\n",
              "    <tr>\n",
              "      <th>1998</th>\n",
              "      <td>1512</td>\n",
              "      <td>0</td>\n",
              "      <td>0.9</td>\n",
              "      <td>0</td>\n",
              "      <td>4</td>\n",
              "      <td>1</td>\n",
              "      <td>46</td>\n",
              "      <td>0.1</td>\n",
              "      <td>145</td>\n",
              "      <td>5</td>\n",
              "      <td>...</td>\n",
              "      <td>336</td>\n",
              "      <td>670</td>\n",
              "      <td>869</td>\n",
              "      <td>18</td>\n",
              "      <td>10</td>\n",
              "      <td>19</td>\n",
              "      <td>1</td>\n",
              "      <td>1</td>\n",
              "      <td>1</td>\n",
              "      <td>0</td>\n",
              "    </tr>\n",
              "    <tr>\n",
              "      <th>1999</th>\n",
              "      <td>510</td>\n",
              "      <td>1</td>\n",
              "      <td>2.0</td>\n",
              "      <td>1</td>\n",
              "      <td>5</td>\n",
              "      <td>1</td>\n",
              "      <td>45</td>\n",
              "      <td>0.9</td>\n",
              "      <td>168</td>\n",
              "      <td>6</td>\n",
              "      <td>...</td>\n",
              "      <td>483</td>\n",
              "      <td>754</td>\n",
              "      <td>3919</td>\n",
              "      <td>19</td>\n",
              "      <td>4</td>\n",
              "      <td>2</td>\n",
              "      <td>1</td>\n",
              "      <td>1</td>\n",
              "      <td>1</td>\n",
              "      <td>3</td>\n",
              "    </tr>\n",
              "  </tbody>\n",
              "</table>\n",
              "<p>5 rows × 21 columns</p>\n",
              "</div>\n",
              "      <button class=\"colab-df-convert\" onclick=\"convertToInteractive('df-1a44235c-f576-4742-be08-6eed30b779bb')\"\n",
              "              title=\"Convert this dataframe to an interactive table.\"\n",
              "              style=\"display:none;\">\n",
              "        \n",
              "  <svg xmlns=\"http://www.w3.org/2000/svg\" height=\"24px\"viewBox=\"0 0 24 24\"\n",
              "       width=\"24px\">\n",
              "    <path d=\"M0 0h24v24H0V0z\" fill=\"none\"/>\n",
              "    <path d=\"M18.56 5.44l.94 2.06.94-2.06 2.06-.94-2.06-.94-.94-2.06-.94 2.06-2.06.94zm-11 1L8.5 8.5l.94-2.06 2.06-.94-2.06-.94L8.5 2.5l-.94 2.06-2.06.94zm10 10l.94 2.06.94-2.06 2.06-.94-2.06-.94-.94-2.06-.94 2.06-2.06.94z\"/><path d=\"M17.41 7.96l-1.37-1.37c-.4-.4-.92-.59-1.43-.59-.52 0-1.04.2-1.43.59L10.3 9.45l-7.72 7.72c-.78.78-.78 2.05 0 2.83L4 21.41c.39.39.9.59 1.41.59.51 0 1.02-.2 1.41-.59l7.78-7.78 2.81-2.81c.8-.78.8-2.07 0-2.86zM5.41 20L4 18.59l7.72-7.72 1.47 1.35L5.41 20z\"/>\n",
              "  </svg>\n",
              "      </button>\n",
              "      \n",
              "  <style>\n",
              "    .colab-df-container {\n",
              "      display:flex;\n",
              "      flex-wrap:wrap;\n",
              "      gap: 12px;\n",
              "    }\n",
              "\n",
              "    .colab-df-convert {\n",
              "      background-color: #E8F0FE;\n",
              "      border: none;\n",
              "      border-radius: 50%;\n",
              "      cursor: pointer;\n",
              "      display: none;\n",
              "      fill: #1967D2;\n",
              "      height: 32px;\n",
              "      padding: 0 0 0 0;\n",
              "      width: 32px;\n",
              "    }\n",
              "\n",
              "    .colab-df-convert:hover {\n",
              "      background-color: #E2EBFA;\n",
              "      box-shadow: 0px 1px 2px rgba(60, 64, 67, 0.3), 0px 1px 3px 1px rgba(60, 64, 67, 0.15);\n",
              "      fill: #174EA6;\n",
              "    }\n",
              "\n",
              "    [theme=dark] .colab-df-convert {\n",
              "      background-color: #3B4455;\n",
              "      fill: #D2E3FC;\n",
              "    }\n",
              "\n",
              "    [theme=dark] .colab-df-convert:hover {\n",
              "      background-color: #434B5C;\n",
              "      box-shadow: 0px 1px 3px 1px rgba(0, 0, 0, 0.15);\n",
              "      filter: drop-shadow(0px 1px 2px rgba(0, 0, 0, 0.3));\n",
              "      fill: #FFFFFF;\n",
              "    }\n",
              "  </style>\n",
              "\n",
              "      <script>\n",
              "        const buttonEl =\n",
              "          document.querySelector('#df-1a44235c-f576-4742-be08-6eed30b779bb button.colab-df-convert');\n",
              "        buttonEl.style.display =\n",
              "          google.colab.kernel.accessAllowed ? 'block' : 'none';\n",
              "\n",
              "        async function convertToInteractive(key) {\n",
              "          const element = document.querySelector('#df-1a44235c-f576-4742-be08-6eed30b779bb');\n",
              "          const dataTable =\n",
              "            await google.colab.kernel.invokeFunction('convertToInteractive',\n",
              "                                                     [key], {});\n",
              "          if (!dataTable) return;\n",
              "\n",
              "          const docLinkHtml = 'Like what you see? Visit the ' +\n",
              "            '<a target=\"_blank\" href=https://colab.research.google.com/notebooks/data_table.ipynb>data table notebook</a>'\n",
              "            + ' to learn more about interactive tables.';\n",
              "          element.innerHTML = '';\n",
              "          dataTable['output_type'] = 'display_data';\n",
              "          await google.colab.output.renderOutput(dataTable, element);\n",
              "          const docLink = document.createElement('div');\n",
              "          docLink.innerHTML = docLinkHtml;\n",
              "          element.appendChild(docLink);\n",
              "        }\n",
              "      </script>\n",
              "    </div>\n",
              "  </div>\n",
              "  "
            ]
          },
          "metadata": {},
          "execution_count": 76
        }
      ]
    },
    {
      "cell_type": "code",
      "source": [
        "df.shape"
      ],
      "metadata": {
        "id": "-_2wr6tw_wWH",
        "colab": {
          "base_uri": "https://localhost:8080/"
        },
        "outputId": "9fa4d584-c7d2-4ab1-a391-8995035d2ded"
      },
      "execution_count": 77,
      "outputs": [
        {
          "output_type": "execute_result",
          "data": {
            "text/plain": [
              "(2000, 21)"
            ]
          },
          "metadata": {},
          "execution_count": 77
        }
      ]
    },
    {
      "cell_type": "code",
      "source": [
        "df.corr()['price_range']"
      ],
      "metadata": {
        "id": "ajScpeHZQiFd",
        "colab": {
          "base_uri": "https://localhost:8080/"
        },
        "outputId": "33f7eae7-bd5a-46d0-8b6e-8734161f2d46"
      },
      "execution_count": 78,
      "outputs": [
        {
          "output_type": "execute_result",
          "data": {
            "text/plain": [
              "battery_power    0.200723\n",
              "blue             0.020573\n",
              "clock_speed     -0.006606\n",
              "dual_sim         0.017444\n",
              "fc               0.021998\n",
              "four_g           0.014772\n",
              "int_memory       0.044435\n",
              "m_dep            0.000853\n",
              "mobile_wt       -0.030302\n",
              "n_cores          0.004399\n",
              "pc               0.033599\n",
              "px_height        0.148858\n",
              "px_width         0.165818\n",
              "ram              0.917046\n",
              "sc_h             0.022986\n",
              "sc_w             0.038711\n",
              "talk_time        0.021859\n",
              "three_g          0.023611\n",
              "touch_screen    -0.030411\n",
              "wifi             0.018785\n",
              "price_range      1.000000\n",
              "Name: price_range, dtype: float64"
            ]
          },
          "metadata": {},
          "execution_count": 78
        }
      ]
    },
    {
      "cell_type": "code",
      "source": [
        "df.columns"
      ],
      "metadata": {
        "id": "Vb2Uo55G-4Iy",
        "colab": {
          "base_uri": "https://localhost:8080/"
        },
        "outputId": "e2fe9770-990c-4292-84fb-7a09263d7b1c"
      },
      "execution_count": 79,
      "outputs": [
        {
          "output_type": "execute_result",
          "data": {
            "text/plain": [
              "Index(['battery_power', 'blue', 'clock_speed', 'dual_sim', 'fc', 'four_g',\n",
              "       'int_memory', 'm_dep', 'mobile_wt', 'n_cores', 'pc', 'px_height',\n",
              "       'px_width', 'ram', 'sc_h', 'sc_w', 'talk_time', 'three_g',\n",
              "       'touch_screen', 'wifi', 'price_range'],\n",
              "      dtype='object')"
            ]
          },
          "metadata": {},
          "execution_count": 79
        }
      ]
    },
    {
      "cell_type": "code",
      "source": [
        "sns.distplot(df['price_range'])"
      ],
      "metadata": {
        "id": "kLCTKCXHHHe1",
        "colab": {
          "base_uri": "https://localhost:8080/",
          "height": 297
        },
        "outputId": "0865ab76-ba63-419b-c71f-08f7713f5cef"
      },
      "execution_count": 80,
      "outputs": [
        {
          "output_type": "execute_result",
          "data": {
            "text/plain": [
              "<matplotlib.axes._subplots.AxesSubplot at 0x7f37396fe790>"
            ]
          },
          "metadata": {},
          "execution_count": 80
        },
        {
          "output_type": "display_data",
          "data": {
            "text/plain": [
              "<Figure size 432x288 with 1 Axes>"
            ],
            "image/png": "[encoded data removed]"
          },
          "metadata": {
            "needs_background": "light"
          }
        }
      ]
    },
    {
      "cell_type": "markdown",
      "source": [
        "## **EDA**"
      ],
      "metadata": {
        "id": "_w5L4G8V1-Hh"
      }
    },
    {
      "cell_type": "code",
      "source": [
        "# from pandas_profiling import ProfileReport\n",
        "# prof = ProfileReport(df)\n",
        "# prof.to_file(output_file = 'output.html')"
      ],
      "metadata": {
        "id": "auHdLxVx5Qyx"
      },
      "execution_count": 81,
      "outputs": []
    },
    {
      "cell_type": "code",
      "source": [
        "sns.barplot(x=df['price_range'],y=df['battery_power'])\n",
        "plt.xticks(rotation = 'horizontal')\n",
        "plt.show()"
      ],
      "metadata": {
        "id": "C5Ggd5pCFVvV",
        "colab": {
          "base_uri": "https://localhost:8080/",
          "height": 280
        },
        "outputId": "17b5cff1-bb7f-4097-b422-34e9f56c78e5"
      },
      "execution_count": 82,
      "outputs": [
        {
          "output_type": "display_data",
          "data": {
            "text/plain": [
              "<Figure size 432x288 with 1 Axes>"
            ],
            "image/png": "[encoded data removed]"
          },
          "metadata": {
            "needs_background": "light"
          }
        }
      ]
    },
    {
      "cell_type": "code",
      "source": [
        "plt.figure(figsize=(30,20))\n",
        "j = 1\n",
        "for i in num_df.columns:\n",
        "  plt.subplot(5,3,j)\n",
        "  sns.barplot(x=df['price_range'],y=df[i])\n",
        " \n",
        "  j=j+1\n"
      ],
      "metadata": {
        "id": "IHd8BaMCHx8D",
        "colab": {
          "base_uri": "https://localhost:8080/",
          "height": 744
        },
        "outputId": "3f36d81c-9ecd-49b0-d315-9d89e9bb857e"
      },
      "execution_count": 83,
      "outputs": [
        {
          "output_type": "display_data",
          "data": {
            "text/plain": [
              "<Figure size 2160x1440 with 14 Axes>"
            ],
            "image/png": "[encoded data removed]"
          },
          "metadata": {
            "needs_background": "light"
          }
        }
      ]
    },
    {
      "cell_type": "code",
      "source": [
        "count_df = df[['clock_speed', 'fc','m_dep','n_cores','pc','sc_h', 'sc_w', 'talk_time']]\n",
        "plt.figure(figsize=(30,20))\n",
        "j = 1\n",
        "for i in count_df.columns:\n",
        "  plt.subplot(5,3,j)\n",
        "  sns.countplot(x=df[i])\n",
        " \n",
        "  j=j+1"
      ],
      "metadata": {
        "id": "4PUzRBI9LYUW",
        "colab": {
          "base_uri": "https://localhost:8080/",
          "height": 457
        },
        "outputId": "5e004853-cf41-4486-8626-8d1510004a57"
      },
      "execution_count": 84,
      "outputs": [
        {
          "output_type": "display_data",
          "data": {
            "text/plain": [
              "<Figure size 2160x1440 with 8 Axes>"
            ],
            "image/png": "[encoded data removed]"
          },
          "metadata": {
            "needs_background": "light"
          }
        }
      ]
    },
    {
      "cell_type": "code",
      "source": [
        "plt.figure(figsize=(30,15))\n",
        "j=1\n",
        "for i in cat_df.columns:\n",
        "  plt.subplot(2, 3, j)\n",
        "  j+=1\n",
        "  cat_df[i].value_counts().plot.pie (autopct='%1.1f%%',shadow=True,labeldistance=None)\n",
        "  plt.legend()\n",
        "# plt.ylabel('')\n",
        "  plt.title(i)"
      ],
      "metadata": {
        "id": "J2lu94i-MzAa",
        "colab": {
          "base_uri": "https://localhost:8080/",
          "height": 612
        },
        "outputId": "cffdfc4f-da57-41b7-a396-cd073116ee51"
      },
      "execution_count": 85,
      "outputs": [
        {
          "output_type": "display_data",
          "data": {
            "text/plain": [
              "<Figure size 2160x1080 with 6 Axes>"
            ],
            "image/png": "[encoded data removed]"
          },
          "metadata": {}
        }
      ]
    },
    {
      "cell_type": "markdown",
      "source": [
        "## **Data preprocessing**"
      ],
      "metadata": {
        "id": "d3SS4DnxVbh4"
      }
    },
    {
      "cell_type": "code",
      "source": [
        "X = df.drop(columns= 'price_range')\n",
        "y = df['price_range'] "
      ],
      "metadata": {
        "id": "ieNvc8lNWOoq"
      },
      "execution_count": 86,
      "outputs": []
    },
    {
      "cell_type": "code",
      "source": [
        "sns.distplot(X)"
      ],
      "metadata": {
        "id": "6w3KojD8RiAt",
        "colab": {
          "base_uri": "https://localhost:8080/",
          "height": 282
        },
        "outputId": "4e3a0f5b-0edc-4f75-b7a9-87f5685a1cdb"
      },
      "execution_count": 87,
      "outputs": [
        {
          "output_type": "execute_result",
          "data": {
            "text/plain": [
              "<matplotlib.axes._subplots.AxesSubplot at 0x7f37359e76d0>"
            ]
          },
          "metadata": {},
          "execution_count": 87
        },
        {
          "output_type": "display_data",
          "data": {
            "text/plain": [
              "<Figure size 432x288 with 1 Axes>"
            ],
            "image/png": "[encoded data removed]"
          },
          "metadata": {
            "needs_background": "light"
          }
        }
      ]
    },
    {
      "cell_type": "code",
      "source": [
        "df.describe()"
      ],
      "metadata": {
        "id": "SFZmXmdtV1Kv",
        "colab": {
          "base_uri": "https://localhost:8080/",
          "height": 394
        },
        "outputId": "aa5fcbac-83d0-4800-c1e1-fbe126614c89"
      },
      "execution_count": 88,
      "outputs": [
        {
          "output_type": "execute_result",
          "data": {
            "text/plain": [
              "       battery_power       blue  clock_speed     dual_sim           fc  \\\n",
              "count    2000.000000  2000.0000  2000.000000  2000.000000  2000.000000   \n",
              "mean     1238.518500     0.4950     1.522250     0.509500     4.309500   \n",
              "std       439.418206     0.5001     0.816004     0.500035     4.341444   \n",
              "min       501.000000     0.0000     0.500000     0.000000     0.000000   \n",
              "25%       851.750000     0.0000     0.700000     0.000000     1.000000   \n",
              "50%      1226.000000     0.0000     1.500000     1.000000     3.000000   \n",
              "75%      1615.250000     1.0000     2.200000     1.000000     7.000000   \n",
              "max      1998.000000     1.0000     3.000000     1.000000    19.000000   \n",
              "\n",
              "            four_g   int_memory        m_dep    mobile_wt      n_cores  ...  \\\n",
              "count  2000.000000  2000.000000  2000.000000  2000.000000  2000.000000  ...   \n",
              "mean      0.521500    32.046500     0.501750   140.249000     4.520500  ...   \n",
              "std       0.499662    18.145715     0.288416    35.399655     2.287837  ...   \n",
              "min       0.000000     2.000000     0.100000    80.000000     1.000000  ...   \n",
              "25%       0.000000    16.000000     0.200000   109.000000     3.000000  ...   \n",
              "50%       1.000000    32.000000     0.500000   141.000000     4.000000  ...   \n",
              "75%       1.000000    48.000000     0.800000   170.000000     7.000000  ...   \n",
              "max       1.000000    64.000000     1.000000   200.000000     8.000000  ...   \n",
              "\n",
              "         px_height     px_width          ram         sc_h         sc_w  \\\n",
              "count  2000.000000  2000.000000  2000.000000  2000.000000  2000.000000   \n",
              "mean    645.108000  1251.515500  2124.213000    12.306500     5.767000   \n",
              "std     443.780811   432.199447  1084.732044     4.213245     4.356398   \n",
              "min       0.000000   500.000000   256.000000     5.000000     0.000000   \n",
              "25%     282.750000   874.750000  1207.500000     9.000000     2.000000   \n",
              "50%     564.000000  1247.000000  2146.500000    12.000000     5.000000   \n",
              "75%     947.250000  1633.000000  3064.500000    16.000000     9.000000   \n",
              "max    1960.000000  1998.000000  3998.000000    19.000000    18.000000   \n",
              "\n",
              "         talk_time      three_g  touch_screen         wifi  price_range  \n",
              "count  2000.000000  2000.000000   2000.000000  2000.000000  2000.000000  \n",
              "mean     11.011000     0.761500      0.503000     0.507000     1.500000  \n",
              "std       5.463955     0.426273      0.500116     0.500076     1.118314  \n",
              "min       2.000000     0.000000      0.000000     0.000000     0.000000  \n",
              "25%       6.000000     1.000000      0.000000     0.000000     0.750000  \n",
              "50%      11.000000     1.000000      1.000000     1.000000     1.500000  \n",
              "75%      16.000000     1.000000      1.000000     1.000000     2.250000  \n",
              "max      20.000000     1.000000      1.000000     1.000000     3.000000  \n",
              "\n",
              "[8 rows x 21 columns]"
            ],
            "text/html": [
              "\n",
              "  <div id=\"df-d92afc7e-1b5e-41b6-a7e3-cb8cd91a6835\">\n",
              "    <div class=\"colab-df-container\">\n",
              "      <div>\n",
              "<style scoped>\n",
              "    .dataframe tbody tr th:only-of-type {\n",
              "        vertical-align: middle;\n",
              "    }\n",
              "\n",
              "    .dataframe tbody tr th {\n",
              "        vertical-align: top;\n",
              "    }\n",
              "\n",
              "    .dataframe thead th {\n",
              "        text-align: right;\n",
              "    }\n",
              "</style>\n",
              "<table border=\"1\" class=\"dataframe\">\n",
              "  <thead>\n",
              "    <tr style=\"text-align: right;\">\n",
              "      <th></th>\n",
              "      <th>battery_power</th>\n",
              "      <th>blue</th>\n",
              "      <th>clock_speed</th>\n",
              "      <th>dual_sim</th>\n",
              "      <th>fc</th>\n",
              "      <th>four_g</th>\n",
              "      <th>int_memory</th>\n",
              "      <th>m_dep</th>\n",
              "      <th>mobile_wt</th>\n",
              "      <th>n_cores</th>\n",
              "      <th>...</th>\n",
              "      <th>px_height</th>\n",
              "      <th>px_width</th>\n",
              "      <th>ram</th>\n",
              "      <th>sc_h</th>\n",
              "      <th>sc_w</th>\n",
              "      <th>talk_time</th>\n",
              "      <th>three_g</th>\n",
              "      <th>touch_screen</th>\n",
              "      <th>wifi</th>\n",
              "      <th>price_range</th>\n",
              "    </tr>\n",
              "  </thead>\n",
              "  <tbody>\n",
              "    <tr>\n",
              "      <th>count</th>\n",
              "      <td>2000.000000</td>\n",
              "      <td>2000.0000</td>\n",
              "      <td>2000.000000</td>\n",
              "      <td>2000.000000</td>\n",
              "      <td>2000.000000</td>\n",
              "      <td>2000.000000</td>\n",
              "      <td>2000.000000</td>\n",
              "      <td>2000.000000</td>\n",
              "      <td>2000.000000</td>\n",
              "      <td>2000.000000</td>\n",
              "      <td>...</td>\n",
              "      <td>2000.000000</td>\n",
              "      <td>2000.000000</td>\n",
              "      <td>2000.000000</td>\n",
              "      <td>2000.000000</td>\n",
              "      <td>2000.000000</td>\n",
              "      <td>2000.000000</td>\n",
              "      <td>2000.000000</td>\n",
              "      <td>2000.000000</td>\n",
              "      <td>2000.000000</td>\n",
              "      <td>2000.000000</td>\n",
              "    </tr>\n",
              "    <tr>\n",
              "      <th>mean</th>\n",
              "      <td>1238.518500</td>\n",
              "      <td>0.4950</td>\n",
              "      <td>1.522250</td>\n",
              "      <td>0.509500</td>\n",
              "      <td>4.309500</td>\n",
              "      <td>0.521500</td>\n",
              "      <td>32.046500</td>\n",
              "      <td>0.501750</td>\n",
              "      <td>140.249000</td>\n",
              "      <td>4.520500</td>\n",
              "      <td>...</td>\n",
              "      <td>645.108000</td>\n",
              "      <td>1251.515500</td>\n",
              "      <td>2124.213000</td>\n",
              "      <td>12.306500</td>\n",
              "      <td>5.767000</td>\n",
              "      <td>11.011000</td>\n",
              "      <td>0.761500</td>\n",
              "      <td>0.503000</td>\n",
              "      <td>0.507000</td>\n",
              "      <td>1.500000</td>\n",
              "    </tr>\n",
              "    <tr>\n",
              "      <th>std</th>\n",
              "      <td>439.418206</td>\n",
              "      <td>0.5001</td>\n",
              "      <td>0.816004</td>\n",
              "      <td>0.500035</td>\n",
              "      <td>4.341444</td>\n",
              "      <td>0.499662</td>\n",
              "      <td>18.145715</td>\n",
              "      <td>0.288416</td>\n",
              "      <td>35.399655</td>\n",
              "      <td>2.287837</td>\n",
              "      <td>...</td>\n",
              "      <td>443.780811</td>\n",
              "      <td>432.199447</td>\n",
              "      <td>1084.732044</td>\n",
              "      <td>4.213245</td>\n",
              "      <td>4.356398</td>\n",
              "      <td>5.463955</td>\n",
              "      <td>0.426273</td>\n",
              "      <td>0.500116</td>\n",
              "      <td>0.500076</td>\n",
              "      <td>1.118314</td>\n",
              "    </tr>\n",
              "    <tr>\n",
              "      <th>min</th>\n",
              "      <td>501.000000</td>\n",
              "      <td>0.0000</td>\n",
              "      <td>0.500000</td>\n",
              "      <td>0.000000</td>\n",
              "      <td>0.000000</td>\n",
              "      <td>0.000000</td>\n",
              "      <td>2.000000</td>\n",
              "      <td>0.100000</td>\n",
              "      <td>80.000000</td>\n",
              "      <td>1.000000</td>\n",
              "      <td>...</td>\n",
              "      <td>0.000000</td>\n",
              "      <td>500.000000</td>\n",
              "      <td>256.000000</td>\n",
              "      <td>5.000000</td>\n",
              "      <td>0.000000</td>\n",
              "      <td>2.000000</td>\n",
              "      <td>0.000000</td>\n",
              "      <td>0.000000</td>\n",
              "      <td>0.000000</td>\n",
              "      <td>0.000000</td>\n",
              "    </tr>\n",
              "    <tr>\n",
              "      <th>25%</th>\n",
              "      <td>851.750000</td>\n",
              "      <td>0.0000</td>\n",
              "      <td>0.700000</td>\n",
              "      <td>0.000000</td>\n",
              "      <td>1.000000</td>\n",
              "      <td>0.000000</td>\n",
              "      <td>16.000000</td>\n",
              "      <td>0.200000</td>\n",
              "      <td>109.000000</td>\n",
              "      <td>3.000000</td>\n",
              "      <td>...</td>\n",
              "      <td>282.750000</td>\n",
              "      <td>874.750000</td>\n",
              "      <td>1207.500000</td>\n",
              "      <td>9.000000</td>\n",
              "      <td>2.000000</td>\n",
              "      <td>6.000000</td>\n",
              "      <td>1.000000</td>\n",
              "      <td>0.000000</td>\n",
              "      <td>0.000000</td>\n",
              "      <td>0.750000</td>\n",
              "    </tr>\n",
              "    <tr>\n",
              "      <th>50%</th>\n",
              "      <td>1226.000000</td>\n",
              "      <td>0.0000</td>\n",
              "      <td>1.500000</td>\n",
              "      <td>1.000000</td>\n",
              "      <td>3.000000</td>\n",
              "      <td>1.000000</td>\n",
              "      <td>32.000000</td>\n",
              "      <td>0.500000</td>\n",
              "      <td>141.000000</td>\n",
              "      <td>4.000000</td>\n",
              "      <td>...</td>\n",
              "      <td>564.000000</td>\n",
              "      <td>1247.000000</td>\n",
              "      <td>2146.500000</td>\n",
              "      <td>12.000000</td>\n",
              "      <td>5.000000</td>\n",
              "      <td>11.000000</td>\n",
              "      <td>1.000000</td>\n",
              "      <td>1.000000</td>\n",
              "      <td>1.000000</td>\n",
              "      <td>1.500000</td>\n",
              "    </tr>\n",
              "    <tr>\n",
              "      <th>75%</th>\n",
              "      <td>1615.250000</td>\n",
              "      <td>1.0000</td>\n",
              "      <td>2.200000</td>\n",
              "      <td>1.000000</td>\n",
              "      <td>7.000000</td>\n",
              "      <td>1.000000</td>\n",
              "      <td>48.000000</td>\n",
              "      <td>0.800000</td>\n",
              "      <td>170.000000</td>\n",
              "      <td>7.000000</td>\n",
              "      <td>...</td>\n",
              "      <td>947.250000</td>\n",
              "      <td>1633.000000</td>\n",
              "      <td>3064.500000</td>\n",
              "      <td>16.000000</td>\n",
              "      <td>9.000000</td>\n",
              "      <td>16.000000</td>\n",
              "      <td>1.000000</td>\n",
              "      <td>1.000000</td>\n",
              "      <td>1.000000</td>\n",
              "      <td>2.250000</td>\n",
              "    </tr>\n",
              "    <tr>\n",
              "      <th>max</th>\n",
              "      <td>1998.000000</td>\n",
              "      <td>1.0000</td>\n",
              "      <td>3.000000</td>\n",
              "      <td>1.000000</td>\n",
              "      <td>19.000000</td>\n",
              "      <td>1.000000</td>\n",
              "      <td>64.000000</td>\n",
              "      <td>1.000000</td>\n",
              "      <td>200.000000</td>\n",
              "      <td>8.000000</td>\n",
              "      <td>...</td>\n",
              "      <td>1960.000000</td>\n",
              "      <td>1998.000000</td>\n",
              "      <td>3998.000000</td>\n",
              "      <td>19.000000</td>\n",
              "      <td>18.000000</td>\n",
              "      <td>20.000000</td>\n",
              "      <td>1.000000</td>\n",
              "      <td>1.000000</td>\n",
              "      <td>1.000000</td>\n",
              "      <td>3.000000</td>\n",
              "    </tr>\n",
              "  </tbody>\n",
              "</table>\n",
              "<p>8 rows × 21 columns</p>\n",
              "</div>\n",
              "      <button class=\"colab-df-convert\" onclick=\"convertToInteractive('df-d92afc7e-1b5e-41b6-a7e3-cb8cd91a6835')\"\n",
              "              title=\"Convert this dataframe to an interactive table.\"\n",
              "              style=\"display:none;\">\n",
              "        \n",
              "  <svg xmlns=\"http://www.w3.org/2000/svg\" height=\"24px\"viewBox=\"0 0 24 24\"\n",
              "       width=\"24px\">\n",
              "    <path d=\"M0 0h24v24H0V0z\" fill=\"none\"/>\n",
              "    <path d=\"M18.56 5.44l.94 2.06.94-2.06 2.06-.94-2.06-.94-.94-2.06-.94 2.06-2.06.94zm-11 1L8.5 8.5l.94-2.06 2.06-.94-2.06-.94L8.5 2.5l-.94 2.06-2.06.94zm10 10l.94 2.06.94-2.06 2.06-.94-2.06-.94-.94-2.06-.94 2.06-2.06.94z\"/><path d=\"M17.41 7.96l-1.37-1.37c-.4-.4-.92-.59-1.43-.59-.52 0-1.04.2-1.43.59L10.3 9.45l-7.72 7.72c-.78.78-.78 2.05 0 2.83L4 21.41c.39.39.9.59 1.41.59.51 0 1.02-.2 1.41-.59l7.78-7.78 2.81-2.81c.8-.78.8-2.07 0-2.86zM5.41 20L4 18.59l7.72-7.72 1.47 1.35L5.41 20z\"/>\n",
              "  </svg>\n",
              "      </button>\n",
              "      \n",
              "  <style>\n",
              "    .colab-df-container {\n",
              "      display:flex;\n",
              "      flex-wrap:wrap;\n",
              "      gap: 12px;\n",
              "    }\n",
              "\n",
              "    .colab-df-convert {\n",
              "      background-color: #E8F0FE;\n",
              "      border: none;\n",
              "      border-radius: 50%;\n",
              "      cursor: pointer;\n",
              "      display: none;\n",
              "      fill: #1967D2;\n",
              "      height: 32px;\n",
              "      padding: 0 0 0 0;\n",
              "      width: 32px;\n",
              "    }\n",
              "\n",
              "    .colab-df-convert:hover {\n",
              "      background-color: #E2EBFA;\n",
              "      box-shadow: 0px 1px 2px rgba(60, 64, 67, 0.3), 0px 1px 3px 1px rgba(60, 64, 67, 0.15);\n",
              "      fill: #174EA6;\n",
              "    }\n",
              "\n",
              "    [theme=dark] .colab-df-convert {\n",
              "      background-color: #3B4455;\n",
              "      fill: #D2E3FC;\n",
              "    }\n",
              "\n",
              "    [theme=dark] .colab-df-convert:hover {\n",
              "      background-color: #434B5C;\n",
              "      box-shadow: 0px 1px 3px 1px rgba(0, 0, 0, 0.15);\n",
              "      filter: drop-shadow(0px 1px 2px rgba(0, 0, 0, 0.3));\n",
              "      fill: #FFFFFF;\n",
              "    }\n",
              "  </style>\n",
              "\n",
              "      <script>\n",
              "        const buttonEl =\n",
              "          document.querySelector('#df-d92afc7e-1b5e-41b6-a7e3-cb8cd91a6835 button.colab-df-convert');\n",
              "        buttonEl.style.display =\n",
              "          google.colab.kernel.accessAllowed ? 'block' : 'none';\n",
              "\n",
              "        async function convertToInteractive(key) {\n",
              "          const element = document.querySelector('#df-d92afc7e-1b5e-41b6-a7e3-cb8cd91a6835');\n",
              "          const dataTable =\n",
              "            await google.colab.kernel.invokeFunction('convertToInteractive',\n",
              "                                                     [key], {});\n",
              "          if (!dataTable) return;\n",
              "\n",
              "          const docLinkHtml = 'Like what you see? Visit the ' +\n",
              "            '<a target=\"_blank\" href=https://colab.research.google.com/notebooks/data_table.ipynb>data table notebook</a>'\n",
              "            + ' to learn more about interactive tables.';\n",
              "          element.innerHTML = '';\n",
              "          dataTable['output_type'] = 'display_data';\n",
              "          await google.colab.output.renderOutput(dataTable, element);\n",
              "          const docLink = document.createElement('div');\n",
              "          docLink.innerHTML = docLinkHtml;\n",
              "          element.appendChild(docLink);\n",
              "        }\n",
              "      </script>\n",
              "    </div>\n",
              "  </div>\n",
              "  "
            ]
          },
          "metadata": {},
          "execution_count": 88
        }
      ]
    },
    {
      "cell_type": "code",
      "source": [
        "from sklearn.preprocessing import FunctionTransformer\n",
        "from sklearn.compose import ColumnTransformer"
      ],
      "metadata": {
        "id": "sE_eeoNzXeRn"
      },
      "execution_count": 89,
      "outputs": []
    },
    {
      "cell_type": "code",
      "source": [
        "from sklearn.preprocessing import PowerTransformer\n",
        "jhon = PowerTransformer(method='yeo-johnson')\n",
        "\n",
        "x_transformed = jhon.fit_transform(X)"
      ],
      "metadata": {
        "id": "uD_v6ri9ZNZb"
      },
      "execution_count": 90,
      "outputs": []
    },
    {
      "cell_type": "code",
      "source": [
        "x_transformed"
      ],
      "metadata": {
        "colab": {
          "base_uri": "https://localhost:8080/"
        },
        "id": "xdh_-Mm-Sq7b",
        "outputId": "c8a1aa20-6f95-4fe0-e41f-ffe898757df7"
      },
      "execution_count": 91,
      "outputs": [
        {
          "output_type": "execute_result",
          "data": {
            "text/plain": [
              "array([[-0.88210237, -0.9900495 ,  0.86485888, ..., -1.78686097,\n",
              "        -1.00601811,  0.98609664],\n",
              "       [-0.44331856,  1.0100505 , -1.34967629, ...,  0.55964063,\n",
              "         0.99401789, -1.01409939],\n",
              "       [-1.63133458,  1.0100505 , -1.34967629, ...,  0.55964063,\n",
              "         0.99401789, -1.01409939],\n",
              "       ...,\n",
              "       [ 1.45846719, -0.9900495 , -0.70668067, ...,  0.55964063,\n",
              "         0.99401789, -1.01409939],\n",
              "       [ 0.65114927, -0.9900495 , -0.70668067, ...,  0.55964063,\n",
              "         0.99401789,  0.98609664],\n",
              "       [-1.78590061,  1.0100505 ,  0.65810309, ...,  0.55964063,\n",
              "         0.99401789,  0.98609664]])"
            ]
          },
          "metadata": {},
          "execution_count": 91
        }
      ]
    },
    {
      "cell_type": "code",
      "source": [
        "sns.distplot(x_transformed)"
      ],
      "metadata": {
        "id": "0hh5ndR0YiS4",
        "colab": {
          "base_uri": "https://localhost:8080/",
          "height": 282
        },
        "outputId": "591c4ef8-2e4a-462b-e9d8-2ff0213b8928"
      },
      "execution_count": 92,
      "outputs": [
        {
          "output_type": "execute_result",
          "data": {
            "text/plain": [
              "<matplotlib.axes._subplots.AxesSubplot at 0x7f37356b32d0>"
            ]
          },
          "metadata": {},
          "execution_count": 92
        },
        {
          "output_type": "display_data",
          "data": {
            "text/plain": [
              "<Figure size 432x288 with 1 Axes>"
            ],
            "image/png": "[encoded data removed]"
          },
          "metadata": {
            "needs_background": "light"
          }
        }
      ]
    },
    {
      "cell_type": "code",
      "source": [
        "plt.figure(figsize=(15,10))\n",
        "sns.heatmap(num_df.corr(),annot=True,cmap= 'coolwarm')"
      ],
      "metadata": {
        "id": "UOdhf9vNl3lv",
        "colab": {
          "base_uri": "https://localhost:8080/",
          "height": 674
        },
        "outputId": "d5615d5d-6050-445c-b9c9-5301c7a4879a"
      },
      "execution_count": 93,
      "outputs": [
        {
          "output_type": "execute_result",
          "data": {
            "text/plain": [
              "<matplotlib.axes._subplots.AxesSubplot at 0x7f3735670250>"
            ]
          },
          "metadata": {},
          "execution_count": 93
        },
        {
          "output_type": "display_data",
          "data": {
            "text/plain": [
              "<Figure size 1080x720 with 2 Axes>"
            ],
            "image/png": "[encoded data removed]"
          },
          "metadata": {
            "needs_background": "light"
          }
        }
      ]
    },
    {
      "cell_type": "code",
      "source": [
        "# VIF\n",
        "from statsmodels.stats.outliers_influence import variance_inflation_factor\n",
        "from statsmodels.tools.tools import add_constant"
      ],
      "metadata": {
        "id": "LXrjW_VfnzpM"
      },
      "execution_count": 94,
      "outputs": []
    },
    {
      "cell_type": "code",
      "source": [
        "df1 = add_constant(num_df)"
      ],
      "metadata": {
        "id": "mO2hGfxVoC0B"
      },
      "execution_count": 95,
      "outputs": []
    },
    {
      "cell_type": "code",
      "source": [
        "# VIF of dataframe x\n",
        "def vif(numerical_list):\n",
        "# define vif that takes argument as list of columns\n",
        "  x=df1[num_df.columns]\n",
        "  a=pd.Series([(variance_inflation_factor(x.values,i)) for i in range(x.shape[1])], index=x.columns)\n",
        "  return (a)"
      ],
      "metadata": {
        "id": "dDuY0-lXn0w3"
      },
      "execution_count": 96,
      "outputs": []
    },
    {
      "cell_type": "code",
      "source": [
        "df1.head()"
      ],
      "metadata": {
        "id": "AwvqPXiKoLwm",
        "colab": {
          "base_uri": "https://localhost:8080/",
          "height": 206
        },
        "outputId": "10e59f1a-6813-41f6-c729-ecadb0f544c0"
      },
      "execution_count": 97,
      "outputs": [
        {
          "output_type": "execute_result",
          "data": {
            "text/plain": [
              "   const  battery_power  clock_speed  fc  int_memory  m_dep  mobile_wt  \\\n",
              "0    1.0            842          2.2   1           7    0.6        188   \n",
              "1    1.0           1021          0.5   0          53    0.7        136   \n",
              "2    1.0            563          0.5   2          41    0.9        145   \n",
              "3    1.0            615          2.5   0          10    0.8        131   \n",
              "4    1.0           1821          1.2  13          44    0.6        141   \n",
              "\n",
              "   n_cores  pc  px_height  px_width   ram  sc_h  sc_w  talk_time  \n",
              "0        2   2         20       756  2549     9     7         19  \n",
              "1        3   6        905      1988  2631    17     3          7  \n",
              "2        5   6       1263      1716  2603    11     2          9  \n",
              "3        6   9       1216      1786  2769    16     8         11  \n",
              "4        2  14       1208      1212  1411     8     2         15  "
            ],
            "text/html": [
              "\n",
              "  <div id=\"df-c4b86bcc-0834-49af-860f-b0efc5afe255\">\n",
              "    <div class=\"colab-df-container\">\n",
              "      <div>\n",
              "<style scoped>\n",
              "    .dataframe tbody tr th:only-of-type {\n",
              "        vertical-align: middle;\n",
              "    }\n",
              "\n",
              "    .dataframe tbody tr th {\n",
              "        vertical-align: top;\n",
              "    }\n",
              "\n",
              "    .dataframe thead th {\n",
              "        text-align: right;\n",
              "    }\n",
              "</style>\n",
              "<table border=\"1\" class=\"dataframe\">\n",
              "  <thead>\n",
              "    <tr style=\"text-align: right;\">\n",
              "      <th></th>\n",
              "      <th>const</th>\n",
              "      <th>battery_power</th>\n",
              "      <th>clock_speed</th>\n",
              "      <th>fc</th>\n",
              "      <th>int_memory</th>\n",
              "      <th>m_dep</th>\n",
              "      <th>mobile_wt</th>\n",
              "      <th>n_cores</th>\n",
              "      <th>pc</th>\n",
              "      <th>px_height</th>\n",
              "      <th>px_width</th>\n",
              "      <th>ram</th>\n",
              "      <th>sc_h</th>\n",
              "      <th>sc_w</th>\n",
              "      <th>talk_time</th>\n",
              "    </tr>\n",
              "  </thead>\n",
              "  <tbody>\n",
              "    <tr>\n",
              "      <th>0</th>\n",
              "      <td>1.0</td>\n",
              "      <td>842</td>\n",
              "      <td>2.2</td>\n",
              "      <td>1</td>\n",
              "      <td>7</td>\n",
              "      <td>0.6</td>\n",
              "      <td>188</td>\n",
              "      <td>2</td>\n",
              "      <td>2</td>\n",
              "      <td>20</td>\n",
              "      <td>756</td>\n",
              "      <td>2549</td>\n",
              "      <td>9</td>\n",
              "      <td>7</td>\n",
              "      <td>19</td>\n",
              "    </tr>\n",
              "    <tr>\n",
              "      <th>1</th>\n",
              "      <td>1.0</td>\n",
              "      <td>1021</td>\n",
              "      <td>0.5</td>\n",
              "      <td>0</td>\n",
              "      <td>53</td>\n",
              "      <td>0.7</td>\n",
              "      <td>136</td>\n",
              "      <td>3</td>\n",
              "      <td>6</td>\n",
              "      <td>905</td>\n",
              "      <td>1988</td>\n",
              "      <td>2631</td>\n",
              "      <td>17</td>\n",
              "      <td>3</td>\n",
              "      <td>7</td>\n",
              "    </tr>\n",
              "    <tr>\n",
              "      <th>2</th>\n",
              "      <td>1.0</td>\n",
              "      <td>563</td>\n",
              "      <td>0.5</td>\n",
              "      <td>2</td>\n",
              "      <td>41</td>\n",
              "      <td>0.9</td>\n",
              "      <td>145</td>\n",
              "      <td>5</td>\n",
              "      <td>6</td>\n",
              "      <td>1263</td>\n",
              "      <td>1716</td>\n",
              "      <td>2603</td>\n",
              "      <td>11</td>\n",
              "      <td>2</td>\n",
              "      <td>9</td>\n",
              "    </tr>\n",
              "    <tr>\n",
              "      <th>3</th>\n",
              "      <td>1.0</td>\n",
              "      <td>615</td>\n",
              "      <td>2.5</td>\n",
              "      <td>0</td>\n",
              "      <td>10</td>\n",
              "      <td>0.8</td>\n",
              "      <td>131</td>\n",
              "      <td>6</td>\n",
              "      <td>9</td>\n",
              "      <td>1216</td>\n",
              "      <td>1786</td>\n",
              "      <td>2769</td>\n",
              "      <td>16</td>\n",
              "      <td>8</td>\n",
              "      <td>11</td>\n",
              "    </tr>\n",
              "    <tr>\n",
              "      <th>4</th>\n",
              "      <td>1.0</td>\n",
              "      <td>1821</td>\n",
              "      <td>1.2</td>\n",
              "      <td>13</td>\n",
              "      <td>44</td>\n",
              "      <td>0.6</td>\n",
              "      <td>141</td>\n",
              "      <td>2</td>\n",
              "      <td>14</td>\n",
              "      <td>1208</td>\n",
              "      <td>1212</td>\n",
              "      <td>1411</td>\n",
              "      <td>8</td>\n",
              "      <td>2</td>\n",
              "      <td>15</td>\n",
              "    </tr>\n",
              "  </tbody>\n",
              "</table>\n",
              "</div>\n",
              "      <button class=\"colab-df-convert\" onclick=\"convertToInteractive('df-c4b86bcc-0834-49af-860f-b0efc5afe255')\"\n",
              "              title=\"Convert this dataframe to an interactive table.\"\n",
              "              style=\"display:none;\">\n",
              "        \n",
              "  <svg xmlns=\"http://www.w3.org/2000/svg\" height=\"24px\"viewBox=\"0 0 24 24\"\n",
              "       width=\"24px\">\n",
              "    <path d=\"M0 0h24v24H0V0z\" fill=\"none\"/>\n",
              "    <path d=\"M18.56 5.44l.94 2.06.94-2.06 2.06-.94-2.06-.94-.94-2.06-.94 2.06-2.06.94zm-11 1L8.5 8.5l.94-2.06 2.06-.94-2.06-.94L8.5 2.5l-.94 2.06-2.06.94zm10 10l.94 2.06.94-2.06 2.06-.94-2.06-.94-.94-2.06-.94 2.06-2.06.94z\"/><path d=\"M17.41 7.96l-1.37-1.37c-.4-.4-.92-.59-1.43-.59-.52 0-1.04.2-1.43.59L10.3 9.45l-7.72 7.72c-.78.78-.78 2.05 0 2.83L4 21.41c.39.39.9.59 1.41.59.51 0 1.02-.2 1.41-.59l7.78-7.78 2.81-2.81c.8-.78.8-2.07 0-2.86zM5.41 20L4 18.59l7.72-7.72 1.47 1.35L5.41 20z\"/>\n",
              "  </svg>\n",
              "      </button>\n",
              "      \n",
              "  <style>\n",
              "    .colab-df-container {\n",
              "      display:flex;\n",
              "      flex-wrap:wrap;\n",
              "      gap: 12px;\n",
              "    }\n",
              "\n",
              "    .colab-df-convert {\n",
              "      background-color: #E8F0FE;\n",
              "      border: none;\n",
              "      border-radius: 50%;\n",
              "      cursor: pointer;\n",
              "      display: none;\n",
              "      fill: #1967D2;\n",
              "      height: 32px;\n",
              "      padding: 0 0 0 0;\n",
              "      width: 32px;\n",
              "    }\n",
              "\n",
              "    .colab-df-convert:hover {\n",
              "      background-color: #E2EBFA;\n",
              "      box-shadow: 0px 1px 2px rgba(60, 64, 67, 0.3), 0px 1px 3px 1px rgba(60, 64, 67, 0.15);\n",
              "      fill: #174EA6;\n",
              "    }\n",
              "\n",
              "    [theme=dark] .colab-df-convert {\n",
              "      background-color: #3B4455;\n",
              "      fill: #D2E3FC;\n",
              "    }\n",
              "\n",
              "    [theme=dark] .colab-df-convert:hover {\n",
              "      background-color: #434B5C;\n",
              "      box-shadow: 0px 1px 3px 1px rgba(0, 0, 0, 0.15);\n",
              "      filter: drop-shadow(0px 1px 2px rgba(0, 0, 0, 0.3));\n",
              "      fill: #FFFFFF;\n",
              "    }\n",
              "  </style>\n",
              "\n",
              "      <script>\n",
              "        const buttonEl =\n",
              "          document.querySelector('#df-c4b86bcc-0834-49af-860f-b0efc5afe255 button.colab-df-convert');\n",
              "        buttonEl.style.display =\n",
              "          google.colab.kernel.accessAllowed ? 'block' : 'none';\n",
              "\n",
              "        async function convertToInteractive(key) {\n",
              "          const element = document.querySelector('#df-c4b86bcc-0834-49af-860f-b0efc5afe255');\n",
              "          const dataTable =\n",
              "            await google.colab.kernel.invokeFunction('convertToInteractive',\n",
              "                                                     [key], {});\n",
              "          if (!dataTable) return;\n",
              "\n",
              "          const docLinkHtml = 'Like what you see? Visit the ' +\n",
              "            '<a target=\"_blank\" href=https://colab.research.google.com/notebooks/data_table.ipynb>data table notebook</a>'\n",
              "            + ' to learn more about interactive tables.';\n",
              "          element.innerHTML = '';\n",
              "          dataTable['output_type'] = 'display_data';\n",
              "          await google.colab.output.renderOutput(dataTable, element);\n",
              "          const docLink = document.createElement('div');\n",
              "          docLink.innerHTML = docLinkHtml;\n",
              "          element.appendChild(docLink);\n",
              "        }\n",
              "      </script>\n",
              "    </div>\n",
              "  </div>\n",
              "  "
            ]
          },
          "metadata": {},
          "execution_count": 97
        }
      ]
    },
    {
      "cell_type": "code",
      "source": [
        "vif(num_df)"
      ],
      "metadata": {
        "id": "ubt18lJToTLe",
        "colab": {
          "base_uri": "https://localhost:8080/"
        },
        "outputId": "bde9fc26-4edf-4195-f599-c967450276f7"
      },
      "execution_count": 98,
      "outputs": [
        {
          "output_type": "execute_result",
          "data": {
            "text/plain": [
              "battery_power     7.953793\n",
              "clock_speed       4.230906\n",
              "fc                3.406797\n",
              "int_memory        3.929899\n",
              "m_dep             3.901351\n",
              "mobile_wt        12.526344\n",
              "n_cores           4.593203\n",
              "pc                6.217410\n",
              "px_height         4.238915\n",
              "px_width         11.561984\n",
              "ram               4.620178\n",
              "sc_h             11.360273\n",
              "sc_w              3.714106\n",
              "talk_time         4.835314\n",
              "dtype: float64"
            ]
          },
          "metadata": {},
          "execution_count": 98
        }
      ]
    },
    {
      "cell_type": "code",
      "source": [
        "from sklearn.model_selection import train_test_split\n",
        "X_train,X_test,y_train,y_test = train_test_split(x_transformed,y,test_size = 0.2, random_state = 2)"
      ],
      "metadata": {
        "id": "OWjUKwOeYmOD"
      },
      "execution_count": 99,
      "outputs": []
    },
    {
      "cell_type": "code",
      "source": [
        "X_train[0]"
      ],
      "metadata": {
        "id": "rQgNF3vjQMki",
        "colab": {
          "base_uri": "https://localhost:8080/"
        },
        "outputId": "858433e8-5a4a-4c3b-e43b-1bd747524afb"
      },
      "execution_count": 100,
      "outputs": [
        {
          "output_type": "execute_result",
          "data": {
            "text/plain": [
              "array([ 1.08548242,  1.0100505 , -0.56166326, -1.01918398, -0.67868074,\n",
              "        0.95788598, -1.47878372,  0.39018536, -0.3707394 , -0.61809796,\n",
              "        1.12055844, -0.42501115,  0.2958325 , -0.79093475, -1.76256598,\n",
              "       -1.77432203,  0.91281961,  0.55964063,  0.99401789,  0.98609664])"
            ]
          },
          "metadata": {},
          "execution_count": 100
        }
      ]
    },
    {
      "cell_type": "code",
      "source": [
        "from sklearn.feature_selection import mutual_info_classif\n",
        "# determine the mutual information\n",
        "mutual_info = mutual_info_classif(X_train, y_train)\n",
        "mutual_info"
      ],
      "metadata": {
        "id": "xOBMOb37PNMS",
        "colab": {
          "base_uri": "https://localhost:8080/"
        },
        "outputId": "08b2eeda-2f89-439a-fd8d-0fcb4ba942d5"
      },
      "execution_count": 101,
      "outputs": [
        {
          "output_type": "execute_result",
          "data": {
            "text/plain": [
              "array([0.02083882, 0.        , 0.        , 0.        , 0.        ,\n",
              "       0.01083588, 0.0043502 , 0.02144702, 0.        , 0.        ,\n",
              "       0.        , 0.0297477 , 0.00401424, 0.83352691, 0.        ,\n",
              "       0.03441422, 0.00432901, 0.01545076, 0.        , 0.        ])"
            ]
          },
          "metadata": {},
          "execution_count": 101
        }
      ]
    },
    {
      "cell_type": "code",
      "source": [
        "from sklearn.preprocessing import StandardScaler\n",
        "scl = StandardScaler()\n",
        "X_train_scaled = scl.fit_transform(X_train)\n",
        "X_test_scaled = scl.transform(X_test)\n",
        "X_scaled = scl.transform(x_transformed)"
      ],
      "metadata": {
        "id": "nxZjxghOrhQn"
      },
      "execution_count": 102,
      "outputs": []
    },
    {
      "cell_type": "markdown",
      "source": [
        "## **ML Models**"
      ],
      "metadata": {
        "id": "10MDQLyyz8uv"
      }
    },
    {
      "cell_type": "markdown",
      "source": [
        "###**KNN**"
      ],
      "metadata": {
        "id": "zeRpN9v8KRND"
      }
    },
    {
      "cell_type": "code",
      "source": [
        "from sklearn.neighbors import  KNeighborsClassifier\n",
        "\n",
        "ML(KNeighborsClassifier(n_neighbors= 60))"
      ],
      "metadata": {
        "colab": {
          "base_uri": "https://localhost:8080/"
        },
        "id": "kDHDnVk4KU8_",
        "outputId": "0e7bd13d-184e-4abb-d027-92193009000d"
      },
      "execution_count": 103,
      "outputs": [
        {
          "output_type": "stream",
          "name": "stdout",
          "text": [
            "cv_mean_score=0.6439999999999999\n",
            "\n",
            "\n",
            "[CV] START .....................................................................\n",
            "[CV] END ..................., score=(train=0.702, test=0.655) total time=   0.0s\n",
            "[CV] START .....................................................................\n"
          ]
        },
        {
          "output_type": "stream",
          "name": "stderr",
          "text": [
            "[Parallel(n_jobs=1)]: Using backend SequentialBackend with 1 concurrent workers.\n",
            "[Parallel(n_jobs=1)]: Done   1 out of   1 | elapsed:    0.2s remaining:    0.0s\n"
          ]
        },
        {
          "output_type": "stream",
          "name": "stdout",
          "text": [
            "[CV] END ..................., score=(train=0.701, test=0.620) total time=   0.1s\n",
            "[CV] START .....................................................................\n",
            "[CV] END ..................., score=(train=0.692, test=0.667) total time=   0.0s\n",
            "[CV] START .....................................................................\n"
          ]
        },
        {
          "output_type": "stream",
          "name": "stderr",
          "text": [
            "[Parallel(n_jobs=1)]: Done   2 out of   2 | elapsed:    0.5s remaining:    0.0s\n",
            "[Parallel(n_jobs=1)]: Done   3 out of   3 | elapsed:    0.7s remaining:    0.0s\n"
          ]
        },
        {
          "output_type": "stream",
          "name": "stdout",
          "text": [
            "[CV] END ..................., score=(train=0.706, test=0.645) total time=   0.0s\n",
            "[CV] START .....................................................................\n",
            "[CV] END ..................., score=(train=0.696, test=0.632) total time=   0.0s\n",
            "Cross validate scores={'fit_time': array([0.00142503, 0.00116825, 0.00165939, 0.00119281, 0.00122619]), 'score_time': array([0.03569269, 0.07754016, 0.03887415, 0.03817892, 0.03543353]), 'estimator': [KNeighborsClassifier(n_neighbors=60), KNeighborsClassifier(n_neighbors=60), KNeighborsClassifier(n_neighbors=60), KNeighborsClassifier(n_neighbors=60), KNeighborsClassifier(n_neighbors=60)], 'test_score': array([0.655 , 0.62  , 0.6675, 0.645 , 0.6325]), 'train_score': array([0.701875, 0.70125 , 0.691875, 0.70625 , 0.69625 ])}\n",
            "\n",
            "\n",
            "\n",
            "\n",
            "Classification Report = \n",
            "               precision    recall  f1-score   support\n",
            "\n",
            "           0       0.86      0.80      0.83       105\n",
            "           1       0.52      0.66      0.58        87\n",
            "           2       0.63      0.52      0.57       113\n",
            "           3       0.74      0.77      0.75        95\n",
            "\n",
            "    accuracy                           0.68       400\n",
            "   macro avg       0.69      0.69      0.68       400\n",
            "weighted avg       0.69      0.68      0.68       400\n",
            "\n"
          ]
        },
        {
          "output_type": "stream",
          "name": "stderr",
          "text": [
            "[Parallel(n_jobs=1)]: Done   4 out of   4 | elapsed:    0.9s remaining:    0.0s\n",
            "[Parallel(n_jobs=1)]: Done   5 out of   5 | elapsed:    1.0s remaining:    0.0s\n",
            "[Parallel(n_jobs=1)]: Done   5 out of   5 | elapsed:    1.0s finished\n"
          ]
        }
      ]
    },
    {
      "cell_type": "code",
      "source": [
        "from sklearn.metrics import accuracy_score\n",
        "accuracy =[]\n",
        "for i in range(15,75):\n",
        "  KNN = KNeighborsClassifier(n_neighbors= i)\n",
        "  KNN.fit(X_train_scaled,y_train)\n",
        "  y_pred_knn = KNN.predict(X_test_scaled)\n",
        "  accuracy.append(accuracy_score(y_pred_knn,y_test))\n"
      ],
      "metadata": {
        "id": "eSK0aEbtKr6L"
      },
      "execution_count": 104,
      "outputs": []
    },
    {
      "cell_type": "code",
      "source": [
        "print(accuracy)"
      ],
      "metadata": {
        "colab": {
          "base_uri": "https://localhost:8080/"
        },
        "id": "F8SohfDHNB1S",
        "outputId": "702b3bf6-4662-4293-9362-40efd2c2bcd5"
      },
      "execution_count": 105,
      "outputs": [
        {
          "output_type": "stream",
          "name": "stdout",
          "text": [
            "[0.6175, 0.6, 0.62, 0.645, 0.6375, 0.6325, 0.635, 0.615, 0.6275, 0.625, 0.615, 0.6225, 0.61, 0.6075, 0.625, 0.615, 0.62, 0.62, 0.6325, 0.6275, 0.6125, 0.61, 0.6275, 0.64, 0.645, 0.6325, 0.6475, 0.6525, 0.66, 0.6575, 0.65, 0.655, 0.645, 0.65, 0.65, 0.65, 0.6525, 0.665, 0.6675, 0.675, 0.6775, 0.6725, 0.6725, 0.6775, 0.6725, 0.6825, 0.6675, 0.67, 0.6775, 0.6625, 0.665, 0.67, 0.6775, 0.6625, 0.66, 0.6625, 0.67, 0.68, 0.68, 0.68]\n"
          ]
        }
      ]
    },
    {
      "cell_type": "markdown",
      "source": [
        "#### **Accuracy graph for different parameters of KNN**"
      ],
      "metadata": {
        "id": "Kwpny5Uk6Da4"
      }
    },
    {
      "cell_type": "code",
      "source": [
        "plt.figure(figsize=(15,10))\n",
        "plt.plot(range(15,75),accuracy)"
      ],
      "metadata": {
        "colab": {
          "base_uri": "https://localhost:8080/",
          "height": 609
        },
        "id": "aabI1IvdM8Pc",
        "outputId": "d691e5a5-b686-47aa-be2d-4a68c6153179"
      },
      "execution_count": 106,
      "outputs": [
        {
          "output_type": "execute_result",
          "data": {
            "text/plain": [
              "[<matplotlib.lines.Line2D at 0x7f3735a9ab10>]"
            ]
          },
          "metadata": {},
          "execution_count": 106
        },
        {
          "output_type": "display_data",
          "data": {
            "text/plain": [
              "<Figure size 1080x720 with 1 Axes>"
            ],
            "image/png": "[encoded data removed]"
          },
          "metadata": {
            "needs_background": "light"
          }
        }
      ]
    },
    {
      "cell_type": "markdown",
      "source": [
        "###**Support Vector Machine** "
      ],
      "metadata": {
        "id": "uOXdzuScWk5Q"
      }
    },
    {
      "cell_type": "code",
      "source": [
        "from sklearn.svm import SVC\n",
        "ML(SVC())"
      ],
      "metadata": {
        "colab": {
          "base_uri": "https://localhost:8080/"
        },
        "id": "wBclLysmVfDI",
        "outputId": "b2a6fa28-d6e6-4fb6-b78d-a011f81aab48"
      },
      "execution_count": 107,
      "outputs": [
        {
          "output_type": "stream",
          "name": "stdout",
          "text": [
            "cv_mean_score=0.8775000000000001\n",
            "\n",
            "\n",
            "[CV] START .....................................................................\n"
          ]
        },
        {
          "output_type": "stream",
          "name": "stderr",
          "text": [
            "[Parallel(n_jobs=1)]: Using backend SequentialBackend with 1 concurrent workers.\n"
          ]
        },
        {
          "output_type": "stream",
          "name": "stdout",
          "text": [
            "[CV] END ..................., score=(train=0.984, test=0.882) total time=   0.2s\n",
            "[CV] START .....................................................................\n"
          ]
        },
        {
          "output_type": "stream",
          "name": "stderr",
          "text": [
            "[Parallel(n_jobs=1)]: Done   1 out of   1 | elapsed:    0.4s remaining:    0.0s\n"
          ]
        },
        {
          "output_type": "stream",
          "name": "stdout",
          "text": [
            "[CV] END ..................., score=(train=0.984, test=0.853) total time=   0.3s\n",
            "[CV] START .....................................................................\n"
          ]
        },
        {
          "output_type": "stream",
          "name": "stderr",
          "text": [
            "[Parallel(n_jobs=1)]: Done   2 out of   2 | elapsed:    1.0s remaining:    0.0s\n"
          ]
        },
        {
          "output_type": "stream",
          "name": "stdout",
          "text": [
            "[CV] END ..................., score=(train=0.986, test=0.912) total time=   0.4s\n",
            "[CV] START .....................................................................\n"
          ]
        },
        {
          "output_type": "stream",
          "name": "stderr",
          "text": [
            "[Parallel(n_jobs=1)]: Done   3 out of   3 | elapsed:    1.7s remaining:    0.0s\n"
          ]
        },
        {
          "output_type": "stream",
          "name": "stdout",
          "text": [
            "[CV] END ..................., score=(train=0.988, test=0.868) total time=   0.4s\n",
            "[CV] START .....................................................................\n"
          ]
        },
        {
          "output_type": "stream",
          "name": "stderr",
          "text": [
            "[Parallel(n_jobs=1)]: Done   4 out of   4 | elapsed:    2.5s remaining:    0.0s\n"
          ]
        },
        {
          "output_type": "stream",
          "name": "stdout",
          "text": [
            "[CV] END ..................., score=(train=0.983, test=0.873) total time=   0.4s\n",
            "Cross validate scores={'fit_time': array([0.14443827, 0.25108862, 0.30699396, 0.27557659, 0.28987145]), 'score_time': array([0.04059911, 0.06375766, 0.09026384, 0.0746758 , 0.12735057]), 'estimator': [SVC(), SVC(), SVC(), SVC(), SVC()], 'test_score': array([0.8825, 0.8525, 0.9125, 0.8675, 0.8725]), 'train_score': array([0.984375, 0.98375 , 0.98625 , 0.9875  , 0.9825  ])}\n",
            "\n",
            "\n",
            "\n",
            "\n",
            "Classification Report = \n",
            "               precision    recall  f1-score   support\n",
            "\n",
            "           0       0.96      0.95      0.95        99\n",
            "           1       0.85      0.88      0.87       106\n",
            "           2       0.83      0.80      0.82        97\n",
            "           3       0.92      0.93      0.92        98\n",
            "\n",
            "    accuracy                           0.89       400\n",
            "   macro avg       0.89      0.89      0.89       400\n",
            "weighted avg       0.89      0.89      0.89       400\n",
            "\n"
          ]
        },
        {
          "output_type": "stream",
          "name": "stderr",
          "text": [
            "[Parallel(n_jobs=1)]: Done   5 out of   5 | elapsed:    3.1s remaining:    0.0s\n",
            "[Parallel(n_jobs=1)]: Done   5 out of   5 | elapsed:    3.1s finished\n"
          ]
        }
      ]
    },
    {
      "cell_type": "markdown",
      "source": [
        "#### Hyperparameter tunning for SVC"
      ],
      "metadata": {
        "id": "92mrEMjHp-mz"
      }
    },
    {
      "cell_type": "code",
      "source": [
        "# parameter for Support Vector Classifier\n",
        "svc_params = {'C':range(5,10,2),\n",
        "              'kernel':['rbf','linear', 'poly', 'sigmoid',]}\n",
        "# After finding the best parameters, we commented on all the other parameters for faster execution"
      ],
      "metadata": {
        "id": "m7ZovZaooEyB"
      },
      "execution_count": 108,
      "outputs": []
    },
    {
      "cell_type": "code",
      "source": [
        "svc_grid = GridSearchCV(SVC(),param_grid=svc_params,cv=5,verbose=True,scoring='accuracy',n_jobs=-1)\n",
        "svc_grid.fit(X_train,y_train)"
      ],
      "metadata": {
        "colab": {
          "base_uri": "https://localhost:8080/"
        },
        "id": "fjjPW-p_oZDj",
        "outputId": "1bd1044c-667a-4141-83c8-928a4b9599b3"
      },
      "execution_count": 109,
      "outputs": [
        {
          "output_type": "stream",
          "name": "stdout",
          "text": [
            "Fitting 5 folds for each of 12 candidates, totalling 60 fits\n"
          ]
        },
        {
          "output_type": "execute_result",
          "data": {
            "text/plain": [
              "GridSearchCV(cv=5, estimator=SVC(), n_jobs=-1,\n",
              "             param_grid={'C': range(5, 10, 2),\n",
              "                         'kernel': ['rbf', 'linear', 'poly', 'sigmoid']},\n",
              "             scoring='accuracy', verbose=True)"
            ]
          },
          "metadata": {},
          "execution_count": 109
        }
      ]
    },
    {
      "cell_type": "code",
      "source": [
        "svc_grid.best_params_"
      ],
      "metadata": {
        "colab": {
          "base_uri": "https://localhost:8080/"
        },
        "id": "dc0SkBE7otda",
        "outputId": "8962b407-e17e-4d11-9d7d-bf14cd8b69d9"
      },
      "execution_count": 110,
      "outputs": [
        {
          "output_type": "execute_result",
          "data": {
            "text/plain": [
              "{'C': 5, 'kernel': 'linear'}"
            ]
          },
          "metadata": {},
          "execution_count": 110
        }
      ]
    },
    {
      "cell_type": "code",
      "source": [
        "ML(SVC(C= 5, kernel= 'linear'))"
      ],
      "metadata": {
        "colab": {
          "base_uri": "https://localhost:8080/"
        },
        "id": "D9c1eHJKpZxD",
        "outputId": "634e1409-1c6a-4a2c-f25e-65bc728f4f94"
      },
      "execution_count": 111,
      "outputs": [
        {
          "output_type": "stream",
          "name": "stdout",
          "text": [
            "cv_mean_score=0.9540000000000001\n",
            "\n",
            "\n",
            "[CV] START .....................................................................\n"
          ]
        },
        {
          "output_type": "stream",
          "name": "stderr",
          "text": [
            "[Parallel(n_jobs=1)]: Using backend SequentialBackend with 1 concurrent workers.\n"
          ]
        },
        {
          "output_type": "stream",
          "name": "stdout",
          "text": [
            "[CV] END ..................., score=(train=0.969, test=0.960) total time=   0.2s\n",
            "[CV] START .....................................................................\n",
            "[CV] END ..................., score=(train=0.971, test=0.955) total time=   0.1s\n",
            "[CV] START .....................................................................\n"
          ]
        },
        {
          "output_type": "stream",
          "name": "stderr",
          "text": [
            "[Parallel(n_jobs=1)]: Done   1 out of   1 | elapsed:    0.2s remaining:    0.0s\n",
            "[Parallel(n_jobs=1)]: Done   2 out of   2 | elapsed:    0.4s remaining:    0.0s\n"
          ]
        },
        {
          "output_type": "stream",
          "name": "stdout",
          "text": [
            "[CV] END ..................., score=(train=0.974, test=0.950) total time=   0.3s\n",
            "[CV] START .....................................................................\n"
          ]
        },
        {
          "output_type": "stream",
          "name": "stderr",
          "text": [
            "[Parallel(n_jobs=1)]: Done   3 out of   3 | elapsed:    0.7s remaining:    0.0s\n"
          ]
        },
        {
          "output_type": "stream",
          "name": "stdout",
          "text": [
            "[CV] END ..................., score=(train=0.971, test=0.953) total time=   0.2s\n",
            "[CV] START .....................................................................\n"
          ]
        },
        {
          "output_type": "stream",
          "name": "stderr",
          "text": [
            "[Parallel(n_jobs=1)]: Done   4 out of   4 | elapsed:    0.9s remaining:    0.0s\n"
          ]
        },
        {
          "output_type": "stream",
          "name": "stdout",
          "text": [
            "[CV] END ..................., score=(train=0.970, test=0.953) total time=   0.2s\n",
            "Cross validate scores={'fit_time': array([0.16961026, 0.12854266, 0.24821305, 0.22744513, 0.19182944]), 'score_time': array([0.00629354, 0.00723553, 0.01307106, 0.00581551, 0.00604725]), 'estimator': [SVC(C=5, kernel='linear'), SVC(C=5, kernel='linear'), SVC(C=5, kernel='linear'), SVC(C=5, kernel='linear'), SVC(C=5, kernel='linear')], 'test_score': array([0.96  , 0.955 , 0.95  , 0.9525, 0.9525]), 'train_score': array([0.96875 , 0.97125 , 0.974375, 0.97125 , 0.97    ])}\n",
            "\n",
            "\n",
            "\n",
            "\n",
            "Classification Report = \n",
            "               precision    recall  f1-score   support\n",
            "\n",
            "           0       0.99      0.92      0.96       105\n",
            "           1       0.91      0.99      0.95       100\n",
            "           2       0.97      0.96      0.96        95\n",
            "           3       0.98      0.97      0.97       100\n",
            "\n",
            "    accuracy                           0.96       400\n",
            "   macro avg       0.96      0.96      0.96       400\n",
            "weighted avg       0.96      0.96      0.96       400\n",
            "\n"
          ]
        },
        {
          "output_type": "stream",
          "name": "stderr",
          "text": [
            "[Parallel(n_jobs=1)]: Done   5 out of   5 | elapsed:    1.2s remaining:    0.0s\n",
            "[Parallel(n_jobs=1)]: Done   5 out of   5 | elapsed:    1.2s finished\n"
          ]
        }
      ]
    },
    {
      "cell_type": "markdown",
      "source": [
        "### **Decision Tree**"
      ],
      "metadata": {
        "id": "Piu0iPErfsqo"
      }
    },
    {
      "cell_type": "code",
      "source": [
        "from sklearn.tree import DecisionTreeClassifier\n",
        "ML(DecisionTreeClassifier())"
      ],
      "metadata": {
        "id": "XUzUnFWwfsNr",
        "colab": {
          "base_uri": "https://localhost:8080/"
        },
        "outputId": "8c56152d-83b2-41d3-dab5-e0ef35885bc7"
      },
      "execution_count": 112,
      "outputs": [
        {
          "output_type": "stream",
          "name": "stdout",
          "text": [
            "cv_mean_score=0.8300000000000001\n",
            "\n",
            "\n",
            "[CV] START .....................................................................\n",
            "[CV] END ..................., score=(train=1.000, test=0.845) total time=   0.0s\n",
            "[CV] START .....................................................................\n"
          ]
        },
        {
          "output_type": "stream",
          "name": "stderr",
          "text": [
            "[Parallel(n_jobs=1)]: Using backend SequentialBackend with 1 concurrent workers.\n",
            "[Parallel(n_jobs=1)]: Done   1 out of   1 | elapsed:    0.0s remaining:    0.0s\n"
          ]
        },
        {
          "output_type": "stream",
          "name": "stdout",
          "text": [
            "[CV] END ..................., score=(train=1.000, test=0.818) total time=   0.0s\n",
            "[CV] START .....................................................................\n",
            "[CV] END ..................., score=(train=1.000, test=0.812) total time=   0.0s\n",
            "[CV] START .....................................................................\n",
            "[CV] END ..................., score=(train=1.000, test=0.830) total time=   0.0s\n",
            "[CV] START .....................................................................\n",
            "[CV] END ..................., score=(train=1.000, test=0.815) total time=   0.0s\n",
            "Cross validate scores={'fit_time': array([0.01719117, 0.02709126, 0.01639366, 0.01639795, 0.01671505]), 'score_time': array([0.00078773, 0.00087142, 0.0007422 , 0.00070977, 0.00055337]), 'estimator': [DecisionTreeClassifier(), DecisionTreeClassifier(), DecisionTreeClassifier(), DecisionTreeClassifier(), DecisionTreeClassifier()], 'test_score': array([0.845 , 0.8175, 0.8125, 0.83  , 0.815 ]), 'train_score': array([1., 1., 1., 1., 1.])}\n",
            "\n",
            "\n",
            "\n",
            "\n",
            "Classification Report = \n",
            "               precision    recall  f1-score   support\n",
            "\n",
            "           0       0.91      0.85      0.88       105\n",
            "           1       0.74      0.85      0.79        95\n",
            "           2       0.84      0.78      0.81       101\n",
            "           3       0.90      0.90      0.90        99\n",
            "\n",
            "    accuracy                           0.84       400\n",
            "   macro avg       0.85      0.85      0.85       400\n",
            "weighted avg       0.85      0.84      0.85       400\n",
            "\n"
          ]
        },
        {
          "output_type": "stream",
          "name": "stderr",
          "text": [
            "[Parallel(n_jobs=1)]: Done   2 out of   2 | elapsed:    0.1s remaining:    0.0s\n",
            "[Parallel(n_jobs=1)]: Done   3 out of   3 | elapsed:    0.1s remaining:    0.0s\n",
            "[Parallel(n_jobs=1)]: Done   4 out of   4 | elapsed:    0.1s remaining:    0.0s\n",
            "[Parallel(n_jobs=1)]: Done   5 out of   5 | elapsed:    0.1s remaining:    0.0s\n",
            "[Parallel(n_jobs=1)]: Done   5 out of   5 | elapsed:    0.1s finished\n"
          ]
        }
      ]
    },
    {
      "cell_type": "code",
      "source": [
        "#confusion_matrix(y_pred, y_test)"
      ],
      "metadata": {
        "id": "51itxgwlh9BP"
      },
      "execution_count": 113,
      "outputs": []
    },
    {
      "cell_type": "markdown",
      "source": [
        "#### **Feature selection for Decision Tree**"
      ],
      "metadata": {
        "id": "FrSTc1i76xgX"
      }
    },
    {
      "cell_type": "code",
      "source": [
        "DT = DecisionTreeClassifier()\n",
        "DT.fit(X_train,y_train)\n",
        "df5=pd.DataFrame({\"feature\":X.columns,\"weight\":DT.feature_importances_}).sort_values('weight',ascending=False).head(20)\n",
        "\n",
        "plt.figure(figsize=(10,5))\n",
        "    \n",
        "sns.barplot(x=df5.weight,y=df5.feature).set(title=f'Top 10 Important features for {DT}')"
      ],
      "metadata": {
        "id": "UsF6BxI9ldxD",
        "colab": {
          "base_uri": "https://localhost:8080/",
          "height": 367
        },
        "outputId": "c9ed75b8-7898-409c-9901-9289bb858bf9"
      },
      "execution_count": 114,
      "outputs": [
        {
          "output_type": "execute_result",
          "data": {
            "text/plain": [
              "[Text(0.5, 1.0, 'Top 10 Important features for DecisionTreeClassifier()')]"
            ]
          },
          "metadata": {},
          "execution_count": 114
        },
        {
          "output_type": "display_data",
          "data": {
            "text/plain": [
              "<Figure size 720x360 with 1 Axes>"
            ],
            "image/png": "[encoded data removed]"
          },
          "metadata": {
            "needs_background": "light"
          }
        }
      ]
    },
    {
      "cell_type": "markdown",
      "source": [
        "#### **Hyperparameter tunning for decision tree**"
      ],
      "metadata": {
        "id": "EyUdp3UX7GzG"
      }
    },
    {
      "cell_type": "code",
      "source": [
        "# Hyperparameter Tunning\n",
        "# parameter = {'criterion' :['gini', 'entropy'],\n",
        "#              'splitter' :['best', 'random'],\n",
        "#              'max_depth' : [10,15,20,25,30,35,40,45,50,55,None],\n",
        "#              'min_samples_split' : [3,2,4,5,10,15,25,30],\n",
        "#              'min_samples_leaf' : [3,5,8,10,12],\n",
        "#              }\n",
        "# DT_tunning = GridSearchCV(DT,parameter,cv=5,n_jobs=-1)\n",
        "# DT_tunning.fit(X_train,y_train)\n"
      ],
      "metadata": {
        "id": "NGk4b0rxlqtI"
      },
      "execution_count": 115,
      "outputs": []
    },
    {
      "cell_type": "code",
      "source": [
        "# Best Params\n",
        "# DT_tunning.best_params_"
      ],
      "metadata": {
        "id": "GwJEk0rG6Pkh"
      },
      "execution_count": 116,
      "outputs": []
    },
    {
      "cell_type": "code",
      "source": [
        "ML(DecisionTreeClassifier(criterion =  'entropy',max_depth= 45,min_samples_leaf= 5,min_samples_split= 10,splitter= 'best' ))\n"
      ],
      "metadata": {
        "id": "Jwwl5EtK6bDw",
        "colab": {
          "base_uri": "https://localhost:8080/"
        },
        "outputId": "07d5808a-c276-428c-cca5-8c737e7a25e9"
      },
      "execution_count": 117,
      "outputs": [
        {
          "output_type": "stream",
          "name": "stdout",
          "text": [
            "cv_mean_score=0.849\n",
            "\n",
            "\n",
            "[CV] START .....................................................................\n",
            "[CV] END ..................., score=(train=0.961, test=0.855) total time=   0.1s\n",
            "[CV] START .....................................................................\n",
            "[CV] END ..................., score=(train=0.953, test=0.848) total time=   0.1s\n",
            "[CV] START .....................................................................\n"
          ]
        },
        {
          "output_type": "stream",
          "name": "stderr",
          "text": [
            "[Parallel(n_jobs=1)]: Using backend SequentialBackend with 1 concurrent workers.\n",
            "[Parallel(n_jobs=1)]: Done   1 out of   1 | elapsed:    0.1s remaining:    0.0s\n",
            "[Parallel(n_jobs=1)]: Done   2 out of   2 | elapsed:    0.2s remaining:    0.0s\n"
          ]
        },
        {
          "output_type": "stream",
          "name": "stdout",
          "text": [
            "[CV] END ..................., score=(train=0.953, test=0.848) total time=   0.0s\n",
            "[CV] START .....................................................................\n",
            "[CV] END ..................., score=(train=0.957, test=0.823) total time=   0.0s\n",
            "[CV] START .....................................................................\n",
            "[CV] END ..................., score=(train=0.953, test=0.850) total time=   0.0s\n",
            "Cross validate scores={'fit_time': array([0.06491423, 0.06269455, 0.03522158, 0.03193259, 0.02222681]), 'score_time': array([0.00099182, 0.0098331 , 0.00073028, 0.0070188 , 0.00075793]), 'estimator': [DecisionTreeClassifier(criterion='entropy', max_depth=45, min_samples_leaf=5,\n",
            "                       min_samples_split=10), DecisionTreeClassifier(criterion='entropy', max_depth=45, min_samples_leaf=5,\n",
            "                       min_samples_split=10), DecisionTreeClassifier(criterion='entropy', max_depth=45, min_samples_leaf=5,\n",
            "                       min_samples_split=10), DecisionTreeClassifier(criterion='entropy', max_depth=45, min_samples_leaf=5,\n",
            "                       min_samples_split=10), DecisionTreeClassifier(criterion='entropy', max_depth=45, min_samples_leaf=5,\n",
            "                       min_samples_split=10)], 'test_score': array([0.855 , 0.8475, 0.8475, 0.8225, 0.85  ]), 'train_score': array([0.96125 , 0.953125, 0.9525  , 0.956875, 0.9525  ])}\n",
            "\n",
            "\n",
            "\n",
            "\n",
            "Classification Report = \n",
            "               precision    recall  f1-score   support\n",
            "\n",
            "           0       0.93      0.90      0.91       101\n",
            "           1       0.81      0.90      0.85        98\n",
            "           2       0.85      0.82      0.83        98\n",
            "           3       0.93      0.89      0.91       103\n",
            "\n",
            "    accuracy                           0.88       400\n",
            "   macro avg       0.88      0.88      0.88       400\n",
            "weighted avg       0.88      0.88      0.88       400\n",
            "\n"
          ]
        },
        {
          "output_type": "stream",
          "name": "stderr",
          "text": [
            "[Parallel(n_jobs=1)]: Done   3 out of   3 | elapsed:    0.2s remaining:    0.0s\n",
            "[Parallel(n_jobs=1)]: Done   4 out of   4 | elapsed:    0.3s remaining:    0.0s\n",
            "[Parallel(n_jobs=1)]: Done   5 out of   5 | elapsed:    0.3s remaining:    0.0s\n",
            "[Parallel(n_jobs=1)]: Done   5 out of   5 | elapsed:    0.3s finished\n"
          ]
        }
      ]
    },
    {
      "cell_type": "markdown",
      "source": [
        "### **Bagging**"
      ],
      "metadata": {
        "id": "Ykzue8H_YBJL"
      }
    },
    {
      "cell_type": "code",
      "source": [
        "from sklearn.ensemble  import  BaggingClassifier\n",
        "ML(BaggingClassifier())"
      ],
      "metadata": {
        "id": "89KYfhacYGJ9",
        "colab": {
          "base_uri": "https://localhost:8080/"
        },
        "outputId": "92337062-9d7d-4231-c1d9-999c670e217e"
      },
      "execution_count": 118,
      "outputs": [
        {
          "output_type": "stream",
          "name": "stdout",
          "text": [
            "cv_mean_score=0.882\n",
            "\n",
            "\n",
            "[CV] START .....................................................................\n"
          ]
        },
        {
          "output_type": "stream",
          "name": "stderr",
          "text": [
            "[Parallel(n_jobs=1)]: Using backend SequentialBackend with 1 concurrent workers.\n"
          ]
        },
        {
          "output_type": "stream",
          "name": "stdout",
          "text": [
            "[CV] END ..................., score=(train=0.994, test=0.877) total time=   0.2s\n",
            "[CV] START .....................................................................\n",
            "[CV] END ..................., score=(train=0.992, test=0.868) total time=   0.2s\n",
            "[CV] START .....................................................................\n"
          ]
        },
        {
          "output_type": "stream",
          "name": "stderr",
          "text": [
            "[Parallel(n_jobs=1)]: Done   1 out of   1 | elapsed:    0.3s remaining:    0.0s\n",
            "[Parallel(n_jobs=1)]: Done   2 out of   2 | elapsed:    0.4s remaining:    0.0s\n"
          ]
        },
        {
          "output_type": "stream",
          "name": "stdout",
          "text": [
            "[CV] END ..................., score=(train=0.992, test=0.895) total time=   0.2s\n",
            "[CV] START .....................................................................\n"
          ]
        },
        {
          "output_type": "stream",
          "name": "stderr",
          "text": [
            "[Parallel(n_jobs=1)]: Done   3 out of   3 | elapsed:    0.6s remaining:    0.0s\n"
          ]
        },
        {
          "output_type": "stream",
          "name": "stdout",
          "text": [
            "[CV] END ..................., score=(train=0.994, test=0.875) total time=   0.2s\n",
            "[CV] START .....................................................................\n",
            "[CV] END ..................., score=(train=0.993, test=0.865) total time=   0.1s\n",
            "Cross validate scores={'fit_time': array([0.2061758 , 0.17684865, 0.15361643, 0.19082832, 0.13541985]), 'score_time': array([0.01696324, 0.00411296, 0.00402403, 0.02272844, 0.00451732]), 'estimator': [BaggingClassifier(), BaggingClassifier(), BaggingClassifier(), BaggingClassifier(), BaggingClassifier()], 'test_score': array([0.8775, 0.8675, 0.895 , 0.875 , 0.865 ]), 'train_score': array([0.994375, 0.991875, 0.991875, 0.994375, 0.993125])}\n",
            "\n",
            "\n",
            "\n",
            "\n",
            "Classification Report = \n",
            "               precision    recall  f1-score   support\n",
            "\n",
            "           0       0.97      0.86      0.91       110\n",
            "           1       0.82      0.92      0.86        97\n",
            "           2       0.85      0.86      0.86        93\n",
            "           3       0.92      0.91      0.91       100\n",
            "\n",
            "    accuracy                           0.89       400\n",
            "   macro avg       0.89      0.89      0.89       400\n",
            "weighted avg       0.89      0.89      0.89       400\n",
            "\n"
          ]
        },
        {
          "output_type": "stream",
          "name": "stderr",
          "text": [
            "[Parallel(n_jobs=1)]: Done   4 out of   4 | elapsed:    0.8s remaining:    0.0s\n",
            "[Parallel(n_jobs=1)]: Done   5 out of   5 | elapsed:    1.0s remaining:    0.0s\n",
            "[Parallel(n_jobs=1)]: Done   5 out of   5 | elapsed:    1.0s finished\n"
          ]
        }
      ]
    },
    {
      "cell_type": "markdown",
      "source": [
        "#### **Hyperparameter tunning for Bagging**"
      ],
      "metadata": {
        "id": "mFuzMvgi7xyW"
      }
    },
    {
      "cell_type": "code",
      "source": [
        "# BC = BaggingClassifier()\n",
        "# LR = LogisticRegression()\n",
        "# GBC = GradientBoostingClassifier()\n",
        "# RFC = RandomForestClassifier()\n",
        "\n",
        "# params = {'base_estimator':[LR,GBC,RFC], 'n_estimators' : [20,50,100], 'max_samples' : [0.2,0.5,0.8,1.0],\n",
        "#           'bootstrap': [True,False],'bootstrap_features': [True,False], 'max_features':[0.2,0.5,0.7,1.0]}\n",
        "\n",
        "# Bagging_tunning = RandomizedSearchCV(BaggingClassifier(n_jobs=-1),params,cv=5,n_jobs=-1) \n",
        "# Bagging_tunning.fit(X_train,y_train)          \n",
        "# Bagging_tunning.best_params_     "
      ],
      "metadata": {
        "id": "0BfkUDns7sW_"
      },
      "execution_count": 119,
      "outputs": []
    },
    {
      "cell_type": "code",
      "source": [
        "ML(BaggingClassifier(base_estimator= LogisticRegression(),\n",
        " bootstrap= True,\n",
        " bootstrap_features= True,\n",
        " max_features= 1.0,\n",
        " max_samples= 0.8,\n",
        " n_estimators= 20))"
      ],
      "metadata": {
        "colab": {
          "base_uri": "https://localhost:8080/"
        },
        "outputId": "1c560807-5b01-4a46-9c97-45786e19152b",
        "id": "XraLwwft7sXA"
      },
      "execution_count": 120,
      "outputs": [
        {
          "output_type": "stream",
          "name": "stdout",
          "text": [
            "cv_mean_score=0.917\n",
            "\n",
            "\n",
            "[CV] START .....................................................................\n"
          ]
        },
        {
          "output_type": "stream",
          "name": "stderr",
          "text": [
            "[Parallel(n_jobs=1)]: Using backend SequentialBackend with 1 concurrent workers.\n"
          ]
        },
        {
          "output_type": "stream",
          "name": "stdout",
          "text": [
            "[CV] END ..................., score=(train=0.951, test=0.940) total time=   1.6s\n",
            "[CV] START .....................................................................\n"
          ]
        },
        {
          "output_type": "stream",
          "name": "stderr",
          "text": [
            "[Parallel(n_jobs=1)]: Done   1 out of   1 | elapsed:    1.6s remaining:    0.0s\n"
          ]
        },
        {
          "output_type": "stream",
          "name": "stdout",
          "text": [
            "[CV] END ..................., score=(train=0.947, test=0.920) total time=   1.5s\n",
            "[CV] START .....................................................................\n"
          ]
        },
        {
          "output_type": "stream",
          "name": "stderr",
          "text": [
            "[Parallel(n_jobs=1)]: Done   2 out of   2 | elapsed:    3.1s remaining:    0.0s\n"
          ]
        },
        {
          "output_type": "stream",
          "name": "stdout",
          "text": [
            "[CV] END ..................., score=(train=0.919, test=0.917) total time=   1.2s\n",
            "[CV] START .....................................................................\n"
          ]
        },
        {
          "output_type": "stream",
          "name": "stderr",
          "text": [
            "[Parallel(n_jobs=1)]: Done   3 out of   3 | elapsed:    4.3s remaining:    0.0s\n"
          ]
        },
        {
          "output_type": "stream",
          "name": "stdout",
          "text": [
            "[CV] END ..................., score=(train=0.939, test=0.925) total time=   0.8s\n",
            "[CV] START .....................................................................\n"
          ]
        },
        {
          "output_type": "stream",
          "name": "stderr",
          "text": [
            "[Parallel(n_jobs=1)]: Done   4 out of   4 | elapsed:    5.1s remaining:    0.0s\n"
          ]
        },
        {
          "output_type": "stream",
          "name": "stdout",
          "text": [
            "[CV] END ..................., score=(train=0.930, test=0.930) total time=   0.7s\n",
            "Cross validate scores={'fit_time': array([1.55084634, 1.50035524, 1.16331053, 0.80179524, 0.73705125]), 'score_time': array([0.0159719 , 0.00994253, 0.0054369 , 0.00852799, 0.00531054]), 'estimator': [BaggingClassifier(base_estimator=LogisticRegression(), bootstrap_features=True,\n",
            "                  max_samples=0.8, n_estimators=20), BaggingClassifier(base_estimator=LogisticRegression(), bootstrap_features=True,\n",
            "                  max_samples=0.8, n_estimators=20), BaggingClassifier(base_estimator=LogisticRegression(), bootstrap_features=True,\n",
            "                  max_samples=0.8, n_estimators=20), BaggingClassifier(base_estimator=LogisticRegression(), bootstrap_features=True,\n",
            "                  max_samples=0.8, n_estimators=20), BaggingClassifier(base_estimator=LogisticRegression(), bootstrap_features=True,\n",
            "                  max_samples=0.8, n_estimators=20)], 'test_score': array([0.94  , 0.92  , 0.9175, 0.925 , 0.93  ]), 'train_score': array([0.95125 , 0.946875, 0.91875 , 0.93875 , 0.93    ])}\n",
            "\n",
            "\n",
            "\n",
            "\n",
            "Classification Report = \n",
            "               precision    recall  f1-score   support\n",
            "\n",
            "           0       0.99      0.87      0.93       111\n",
            "           1       0.84      0.98      0.91        94\n",
            "           2       0.96      0.95      0.95        95\n",
            "           3       0.98      0.97      0.97       100\n",
            "\n",
            "    accuracy                           0.94       400\n",
            "   macro avg       0.94      0.94      0.94       400\n",
            "weighted avg       0.95      0.94      0.94       400\n",
            "\n"
          ]
        },
        {
          "output_type": "stream",
          "name": "stderr",
          "text": [
            "[Parallel(n_jobs=1)]: Done   5 out of   5 | elapsed:    5.9s remaining:    0.0s\n",
            "[Parallel(n_jobs=1)]: Done   5 out of   5 | elapsed:    5.9s finished\n"
          ]
        }
      ]
    },
    {
      "cell_type": "markdown",
      "source": [
        "### **Random Forest**"
      ],
      "metadata": {
        "id": "UPYN0AUhYfo3"
      }
    },
    {
      "cell_type": "code",
      "source": [
        "from sklearn.ensemble import RandomForestClassifier\n",
        "ML(RandomForestClassifier())"
      ],
      "metadata": {
        "id": "lc1UQx-MYrV5",
        "colab": {
          "base_uri": "https://localhost:8080/"
        },
        "outputId": "2836c61b-4340-4fd7-be6a-ba232f609aa4"
      },
      "execution_count": 121,
      "outputs": [
        {
          "output_type": "stream",
          "name": "stdout",
          "text": [
            "cv_mean_score=0.8729999999999999\n",
            "\n",
            "\n",
            "[CV] START .....................................................................\n"
          ]
        },
        {
          "output_type": "stream",
          "name": "stderr",
          "text": [
            "[Parallel(n_jobs=1)]: Using backend SequentialBackend with 1 concurrent workers.\n"
          ]
        },
        {
          "output_type": "stream",
          "name": "stdout",
          "text": [
            "[CV] END ..................., score=(train=1.000, test=0.863) total time=   0.4s\n",
            "[CV] START .....................................................................\n"
          ]
        },
        {
          "output_type": "stream",
          "name": "stderr",
          "text": [
            "[Parallel(n_jobs=1)]: Done   1 out of   1 | elapsed:    0.4s remaining:    0.0s\n"
          ]
        },
        {
          "output_type": "stream",
          "name": "stdout",
          "text": [
            "[CV] END ..................., score=(train=1.000, test=0.873) total time=   0.4s\n",
            "[CV] START .....................................................................\n"
          ]
        },
        {
          "output_type": "stream",
          "name": "stderr",
          "text": [
            "[Parallel(n_jobs=1)]: Done   2 out of   2 | elapsed:    0.9s remaining:    0.0s\n"
          ]
        },
        {
          "output_type": "stream",
          "name": "stdout",
          "text": [
            "[CV] END ..................., score=(train=1.000, test=0.895) total time=   0.4s\n",
            "[CV] START .....................................................................\n"
          ]
        },
        {
          "output_type": "stream",
          "name": "stderr",
          "text": [
            "[Parallel(n_jobs=1)]: Done   3 out of   3 | elapsed:    1.3s remaining:    0.0s\n"
          ]
        },
        {
          "output_type": "stream",
          "name": "stdout",
          "text": [
            "[CV] END ..................., score=(train=1.000, test=0.858) total time=   0.4s\n",
            "[CV] START .....................................................................\n"
          ]
        },
        {
          "output_type": "stream",
          "name": "stderr",
          "text": [
            "[Parallel(n_jobs=1)]: Done   4 out of   4 | elapsed:    1.8s remaining:    0.0s\n"
          ]
        },
        {
          "output_type": "stream",
          "name": "stdout",
          "text": [
            "[CV] END ..................., score=(train=1.000, test=0.865) total time=   0.4s\n",
            "Cross validate scores={'fit_time': array([0.37018991, 0.37591767, 0.36427355, 0.38803172, 0.36988425]), 'score_time': array([0.01986051, 0.02481031, 0.01981354, 0.01949644, 0.01936555]), 'estimator': [RandomForestClassifier(), RandomForestClassifier(), RandomForestClassifier(), RandomForestClassifier(), RandomForestClassifier()], 'test_score': array([0.8625, 0.8725, 0.895 , 0.8575, 0.865 ]), 'train_score': array([1., 1., 1., 1., 1.])}\n",
            "\n",
            "\n",
            "\n",
            "\n",
            "Classification Report = \n",
            "               precision    recall  f1-score   support\n",
            "\n",
            "           0       0.97      0.89      0.93       107\n",
            "           1       0.83      0.90      0.86       100\n",
            "           2       0.82      0.88      0.85        88\n",
            "           3       0.96      0.90      0.93       105\n",
            "\n",
            "    accuracy                           0.89       400\n",
            "   macro avg       0.89      0.89      0.89       400\n",
            "weighted avg       0.90      0.89      0.89       400\n",
            "\n"
          ]
        },
        {
          "output_type": "stream",
          "name": "stderr",
          "text": [
            "[Parallel(n_jobs=1)]: Done   5 out of   5 | elapsed:    2.2s remaining:    0.0s\n",
            "[Parallel(n_jobs=1)]: Done   5 out of   5 | elapsed:    2.2s finished\n"
          ]
        }
      ]
    },
    {
      "cell_type": "markdown",
      "source": [
        "### **Gradient Boosting**"
      ],
      "metadata": {
        "id": "6EyLx1lkY_og"
      }
    },
    {
      "cell_type": "code",
      "source": [
        "from sklearn.ensemble import GradientBoostingClassifier\n",
        "ML(GradientBoostingClassifier())"
      ],
      "metadata": {
        "id": "AReESUYyY2AS",
        "colab": {
          "base_uri": "https://localhost:8080/"
        },
        "outputId": "d77748c8-dc2a-4b2f-f7ea-e00cf4656828"
      },
      "execution_count": 122,
      "outputs": [
        {
          "output_type": "stream",
          "name": "stdout",
          "text": [
            "cv_mean_score=0.9025000000000001\n",
            "\n",
            "\n",
            "[CV] START .....................................................................\n"
          ]
        },
        {
          "output_type": "stream",
          "name": "stderr",
          "text": [
            "[Parallel(n_jobs=1)]: Using backend SequentialBackend with 1 concurrent workers.\n"
          ]
        },
        {
          "output_type": "stream",
          "name": "stdout",
          "text": [
            "[CV] END ..................., score=(train=1.000, test=0.895) total time=   2.2s\n",
            "[CV] START .....................................................................\n"
          ]
        },
        {
          "output_type": "stream",
          "name": "stderr",
          "text": [
            "[Parallel(n_jobs=1)]: Done   1 out of   1 | elapsed:    2.2s remaining:    0.0s\n"
          ]
        },
        {
          "output_type": "stream",
          "name": "stdout",
          "text": [
            "[CV] END ..................., score=(train=1.000, test=0.915) total time=   2.2s\n",
            "[CV] START .....................................................................\n"
          ]
        },
        {
          "output_type": "stream",
          "name": "stderr",
          "text": [
            "[Parallel(n_jobs=1)]: Done   2 out of   2 | elapsed:    4.4s remaining:    0.0s\n"
          ]
        },
        {
          "output_type": "stream",
          "name": "stdout",
          "text": [
            "[CV] END ..................., score=(train=0.999, test=0.900) total time=   2.2s\n",
            "[CV] START .....................................................................\n"
          ]
        },
        {
          "output_type": "stream",
          "name": "stderr",
          "text": [
            "[Parallel(n_jobs=1)]: Done   3 out of   3 | elapsed:    6.6s remaining:    0.0s\n"
          ]
        },
        {
          "output_type": "stream",
          "name": "stdout",
          "text": [
            "[CV] END ..................., score=(train=1.000, test=0.902) total time=   2.2s\n",
            "[CV] START .....................................................................\n"
          ]
        },
        {
          "output_type": "stream",
          "name": "stderr",
          "text": [
            "[Parallel(n_jobs=1)]: Done   4 out of   4 | elapsed:    8.8s remaining:    0.0s\n"
          ]
        },
        {
          "output_type": "stream",
          "name": "stdout",
          "text": [
            "[CV] END ..................., score=(train=1.000, test=0.885) total time=   2.2s\n",
            "Cross validate scores={'fit_time': array([2.18147564, 2.18804073, 2.16434717, 2.1893363 , 2.21889329]), 'score_time': array([0.00489688, 0.00465298, 0.00532675, 0.00453949, 0.00447989]), 'estimator': [GradientBoostingClassifier(), GradientBoostingClassifier(), GradientBoostingClassifier(), GradientBoostingClassifier(), GradientBoostingClassifier()], 'test_score': array([0.895 , 0.915 , 0.9   , 0.9025, 0.885 ]), 'train_score': array([1.     , 1.     , 0.99875, 1.     , 1.     ])}\n",
            "\n",
            "\n",
            "\n",
            "\n",
            "Classification Report = \n",
            "               precision    recall  f1-score   support\n",
            "\n",
            "           0       0.96      0.90      0.93       105\n",
            "           1       0.89      0.92      0.90       106\n",
            "           2       0.90      0.92      0.91        92\n",
            "           3       0.94      0.96      0.95        97\n",
            "\n",
            "    accuracy                           0.92       400\n",
            "   macro avg       0.92      0.92      0.92       400\n",
            "weighted avg       0.92      0.92      0.92       400\n",
            "\n"
          ]
        },
        {
          "output_type": "stream",
          "name": "stderr",
          "text": [
            "[Parallel(n_jobs=1)]: Done   5 out of   5 | elapsed:   11.1s remaining:    0.0s\n",
            "[Parallel(n_jobs=1)]: Done   5 out of   5 | elapsed:   11.1s finished\n"
          ]
        }
      ]
    },
    {
      "cell_type": "markdown",
      "source": [
        "###**XGBoost**"
      ],
      "metadata": {
        "id": "lDKXg5bFzNPJ"
      }
    },
    {
      "cell_type": "code",
      "source": [
        "!pip3 install xgboost"
      ],
      "metadata": {
        "colab": {
          "base_uri": "https://localhost:8080/"
        },
        "outputId": "77731c61-e932-4374-8eff-f75ac13f6c32",
        "id": "iMCJIgsWzNPJ"
      },
      "execution_count": 129,
      "outputs": [
        {
          "output_type": "stream",
          "name": "stdout",
          "text": [
            "Looking in indexes: https://pypi.org/simple, https://us-python.pkg.dev/colab-wheels/public/simple/\n",
            "Requirement already satisfied: xgboost in /usr/local/lib/python3.7/dist-packages (0.90)\n",
            "Requirement already satisfied: scipy in /usr/local/lib/python3.7/dist-packages (from xgboost) (1.4.1)\n",
            "Requirement already satisfied: numpy in /usr/local/lib/python3.7/dist-packages (from xgboost) (1.21.6)\n"
          ]
        }
      ]
    },
    {
      "cell_type": "code",
      "source": [
        "import xgboost"
      ],
      "metadata": {
        "id": "4bXy7LdGzNPK"
      },
      "execution_count": 130,
      "outputs": []
    },
    {
      "cell_type": "code",
      "source": [
        "from xgboost import XGBClassifier\n",
        "\n",
        "ML(XGBClassifier())\n"
      ],
      "metadata": {
        "colab": {
          "base_uri": "https://localhost:8080/"
        },
        "outputId": "e606757f-3720-43bb-a4a9-8782ad2cc0c6",
        "id": "HY8HWj7vzNPK"
      },
      "execution_count": 131,
      "outputs": [
        {
          "output_type": "stream",
          "name": "stdout",
          "text": [
            "cv_mean_score=0.9045\n",
            "\n",
            "\n",
            "[CV] START .....................................................................\n"
          ]
        },
        {
          "output_type": "stream",
          "name": "stderr",
          "text": [
            "[Parallel(n_jobs=1)]: Using backend SequentialBackend with 1 concurrent workers.\n"
          ]
        },
        {
          "output_type": "stream",
          "name": "stdout",
          "text": [
            "[CV] END ..................., score=(train=0.987, test=0.897) total time=   0.8s\n",
            "[CV] START .....................................................................\n"
          ]
        },
        {
          "output_type": "stream",
          "name": "stderr",
          "text": [
            "[Parallel(n_jobs=1)]: Done   1 out of   1 | elapsed:    0.8s remaining:    0.0s\n"
          ]
        },
        {
          "output_type": "stream",
          "name": "stdout",
          "text": [
            "[CV] END ..................., score=(train=0.990, test=0.915) total time=   0.9s\n",
            "[CV] START .....................................................................\n"
          ]
        },
        {
          "output_type": "stream",
          "name": "stderr",
          "text": [
            "[Parallel(n_jobs=1)]: Done   2 out of   2 | elapsed:    1.7s remaining:    0.0s\n"
          ]
        },
        {
          "output_type": "stream",
          "name": "stdout",
          "text": [
            "[CV] END ..................., score=(train=0.988, test=0.915) total time=   0.9s\n",
            "[CV] START .....................................................................\n"
          ]
        },
        {
          "output_type": "stream",
          "name": "stderr",
          "text": [
            "[Parallel(n_jobs=1)]: Done   3 out of   3 | elapsed:    2.6s remaining:    0.0s\n"
          ]
        },
        {
          "output_type": "stream",
          "name": "stdout",
          "text": [
            "[CV] END ..................., score=(train=0.986, test=0.905) total time=   1.1s\n",
            "[CV] START .....................................................................\n"
          ]
        },
        {
          "output_type": "stream",
          "name": "stderr",
          "text": [
            "[Parallel(n_jobs=1)]: Done   4 out of   4 | elapsed:    3.8s remaining:    0.0s\n"
          ]
        },
        {
          "output_type": "stream",
          "name": "stdout",
          "text": [
            "[CV] END ..................., score=(train=0.990, test=0.890) total time=   1.1s\n",
            "Cross validate scores={'fit_time': array([0.74255991, 0.87580013, 0.87563062, 1.12568903, 1.0816102 ]), 'score_time': array([0.0150044 , 0.00756836, 0.00751328, 0.00758147, 0.00772572]), 'estimator': [XGBClassifier(objective='multi:softprob'), XGBClassifier(objective='multi:softprob'), XGBClassifier(objective='multi:softprob'), XGBClassifier(objective='multi:softprob'), XGBClassifier(objective='multi:softprob')], 'test_score': array([0.8975, 0.915 , 0.915 , 0.905 , 0.89  ]), 'train_score': array([0.986875, 0.99    , 0.988125, 0.98625 , 0.99    ])}\n",
            "\n",
            "\n",
            "\n",
            "\n",
            "Classification Report = \n",
            "               precision    recall  f1-score   support\n",
            "\n",
            "           0       0.95      0.89      0.92       104\n",
            "           1       0.87      0.90      0.88       106\n",
            "           2       0.89      0.89      0.89        94\n",
            "           3       0.93      0.96      0.94        96\n",
            "\n",
            "    accuracy                           0.91       400\n",
            "   macro avg       0.91      0.91      0.91       400\n",
            "weighted avg       0.91      0.91      0.91       400\n",
            "\n"
          ]
        },
        {
          "output_type": "stream",
          "name": "stderr",
          "text": [
            "[Parallel(n_jobs=1)]: Done   5 out of   5 | elapsed:    4.9s remaining:    0.0s\n",
            "[Parallel(n_jobs=1)]: Done   5 out of   5 | elapsed:    4.9s finished\n"
          ]
        }
      ]
    },
    {
      "cell_type": "markdown",
      "source": [
        "#### **Hyperparameter tunning for XGBoost**"
      ],
      "metadata": {
        "id": "OTE0iiUHzNPK"
      }
    },
    {
      "cell_type": "code",
      "source": [
        "## Hyper Parameter Optimization\n",
        "\n",
        "# params={\n",
        "#  \"learning_rate\"    : [0.05, 0.10, 0.15, 0.20, 0.25, 0.30 ] ,\n",
        "#  \"max_depth\"        : [ 3, 4, 5, 6, 8, 10, 12, 15],\n",
        "#  \"min_child_weight\" : [ 1, 3, 5, 7 ],\n",
        "#  \"gamma\"            : [ 0.0, 0.1, 0.2 , 0.3, 0.4 ],\n",
        "#  \"colsample_bytree\" : [ 0.3, 0.4, 0.5 , 0.7 ]\n",
        "    \n",
        "# }"
      ],
      "metadata": {
        "id": "8rg-iPsazNPL"
      },
      "execution_count": null,
      "outputs": []
    },
    {
      "cell_type": "code",
      "source": [
        "XGB = xgboost.XGBClassifier()"
      ],
      "metadata": {
        "id": "WISzp7LszNPL"
      },
      "execution_count": null,
      "outputs": []
    },
    {
      "cell_type": "code",
      "source": [
        "#XGB = XGBClassifier()\n",
        "# random_search= RandomizedSearchCV(XGB,param_distributions=params,n_iter=5,scoring='accuracy',n_jobs=-1,cv=5,verbose=3)\n",
        "# random_search.fit(X_train,y_train)"
      ],
      "metadata": {
        "id": "xps6BUnSzNPL"
      },
      "execution_count": null,
      "outputs": []
    },
    {
      "cell_type": "code",
      "source": [
        "# random_search.best_params_"
      ],
      "metadata": {
        "id": "zXjXpCD7zNPM"
      },
      "execution_count": null,
      "outputs": []
    },
    {
      "cell_type": "code",
      "source": [
        "# random_search.best_estimator_"
      ],
      "metadata": {
        "id": "6KcJx98lzNPM"
      },
      "execution_count": null,
      "outputs": []
    },
    {
      "cell_type": "code",
      "source": [
        "ML(XGBClassifier(base_score=0.5, booster='gbtree', colsample_bylevel=1,\n",
        "       colsample_bytree=0.7, gamma=0.3, learning_rate=0.25,\n",
        "       max_delta_step=0, max_depth=15, min_child_weight=3, missing=None,\n",
        "       n_estimators=100, n_jobs=1, nthread=None,\n",
        "       objective='multi:softprob', random_state=0, reg_alpha=0,\n",
        "       reg_lambda=1, scale_pos_weight=1, seed=None, silent=True,\n",
        "       subsample=1))"
      ],
      "metadata": {
        "colab": {
          "base_uri": "https://localhost:8080/"
        },
        "id": "NQ0iTrUXzNPM",
        "outputId": "60c41722-ccc2-40c7-ab09-2a94ebbd3551"
      },
      "execution_count": 133,
      "outputs": [
        {
          "output_type": "stream",
          "name": "stdout",
          "text": [
            "cv_mean_score=0.8949999999999999\n",
            "\n",
            "\n",
            "[CV] START .....................................................................\n"
          ]
        },
        {
          "output_type": "stream",
          "name": "stderr",
          "text": [
            "[Parallel(n_jobs=1)]: Using backend SequentialBackend with 1 concurrent workers.\n"
          ]
        },
        {
          "output_type": "stream",
          "name": "stdout",
          "text": [
            "[CV] END ..................., score=(train=1.000, test=0.897) total time=   1.5s\n",
            "[CV] START .....................................................................\n"
          ]
        },
        {
          "output_type": "stream",
          "name": "stderr",
          "text": [
            "[Parallel(n_jobs=1)]: Done   1 out of   1 | elapsed:    1.5s remaining:    0.0s\n"
          ]
        },
        {
          "output_type": "stream",
          "name": "stdout",
          "text": [
            "[CV] END ..................., score=(train=1.000, test=0.900) total time=   0.9s\n",
            "[CV] START .....................................................................\n"
          ]
        },
        {
          "output_type": "stream",
          "name": "stderr",
          "text": [
            "[Parallel(n_jobs=1)]: Done   2 out of   2 | elapsed:    2.4s remaining:    0.0s\n"
          ]
        },
        {
          "output_type": "stream",
          "name": "stdout",
          "text": [
            "[CV] END ..................., score=(train=1.000, test=0.897) total time=   0.9s\n",
            "[CV] START .....................................................................\n"
          ]
        },
        {
          "output_type": "stream",
          "name": "stderr",
          "text": [
            "[Parallel(n_jobs=1)]: Done   3 out of   3 | elapsed:    3.3s remaining:    0.0s\n"
          ]
        },
        {
          "output_type": "stream",
          "name": "stdout",
          "text": [
            "[CV] END ..................., score=(train=1.000, test=0.900) total time=   0.9s\n",
            "[CV] START .....................................................................\n"
          ]
        },
        {
          "output_type": "stream",
          "name": "stderr",
          "text": [
            "[Parallel(n_jobs=1)]: Done   4 out of   4 | elapsed:    4.3s remaining:    0.0s\n"
          ]
        },
        {
          "output_type": "stream",
          "name": "stdout",
          "text": [
            "[CV] END ..................., score=(train=1.000, test=0.880) total time=   0.9s\n",
            "Cross validate scores={'fit_time': array([1.45283699, 0.8992312 , 0.89974928, 0.88903832, 0.90418863]), 'score_time': array([0.00570393, 0.00604177, 0.00614953, 0.00585938, 0.00606751]), 'estimator': [XGBClassifier(colsample_bytree=0.7, gamma=0.3, learning_rate=0.25, max_depth=15,\n",
            "              min_child_weight=3, objective='multi:softprob', silent=True), XGBClassifier(colsample_bytree=0.7, gamma=0.3, learning_rate=0.25, max_depth=15,\n",
            "              min_child_weight=3, objective='multi:softprob', silent=True), XGBClassifier(colsample_bytree=0.7, gamma=0.3, learning_rate=0.25, max_depth=15,\n",
            "              min_child_weight=3, objective='multi:softprob', silent=True), XGBClassifier(colsample_bytree=0.7, gamma=0.3, learning_rate=0.25, max_depth=15,\n",
            "              min_child_weight=3, objective='multi:softprob', silent=True), XGBClassifier(colsample_bytree=0.7, gamma=0.3, learning_rate=0.25, max_depth=15,\n",
            "              min_child_weight=3, objective='multi:softprob', silent=True)], 'test_score': array([0.8975, 0.9   , 0.8975, 0.9   , 0.88  ]), 'train_score': array([1., 1., 1., 1., 1.])}\n",
            "\n",
            "\n",
            "\n",
            "\n",
            "Classification Report = \n",
            "               precision    recall  f1-score   support\n",
            "\n",
            "           0       0.99      0.87      0.92       112\n",
            "           1       0.83      0.94      0.88        97\n",
            "           2       0.89      0.91      0.90        92\n",
            "           3       0.95      0.95      0.95        99\n",
            "\n",
            "    accuracy                           0.92       400\n",
            "   macro avg       0.92      0.92      0.92       400\n",
            "weighted avg       0.92      0.92      0.92       400\n",
            "\n"
          ]
        },
        {
          "output_type": "stream",
          "name": "stderr",
          "text": [
            "[Parallel(n_jobs=1)]: Done   5 out of   5 | elapsed:    5.2s remaining:    0.0s\n",
            "[Parallel(n_jobs=1)]: Done   5 out of   5 | elapsed:    5.2s finished\n"
          ]
        }
      ]
    },
    {
      "cell_type": "markdown",
      "source": [
        "###**Voting**"
      ],
      "metadata": {
        "id": "vnRJD29KlRHN"
      }
    },
    {
      "cell_type": "code",
      "source": [
        "# Base Estimators \n",
        "estimators = [('DT',DecisionTreeClassifier()),('RF',RandomForestClassifier()),\n",
        "       ('GB',GradientBoostingClassifier()),('LR',LogisticRegression()),\n",
        "       ]"
      ],
      "metadata": {
        "id": "yZGNQwOtX8EH"
      },
      "execution_count": 123,
      "outputs": []
    },
    {
      "cell_type": "code",
      "source": [
        "from sklearn.ensemble  import  VotingClassifier\n",
        "from sklearn.neighbors import  KNeighborsClassifier\n",
        "from sklearn.svm import SVC\n",
        "dt=DecisionTreeClassifier(criterion =  'entropy',max_depth= 45,min_samples_leaf= 5,min_samples_split= 10,splitter= 'best' )\n",
        "xgb = XGBClassifier\n",
        "sc = StackingClassifier(estimators=estimators,final_estimator=SVC,passthrough=True,n_jobs=-1)\n",
        "gbc=GradientBoostingClassifier()\n",
        "xbg_ = XGBClassifier(colsample_bytree= 0.7,\n",
        " gamma= 0.3,\n",
        " learning_rate= 0.25,\n",
        " max_depth= 15,\n",
        " min_child_weight= 3,\n",
        " objective='multi:softprob')\n",
        "bc = BaggingClassifier(base_estimator= LogisticRegression(),\n",
        " bootstrap= True,\n",
        " bootstrap_features= True,\n",
        " max_features= 1.0,\n",
        " max_samples= 0.8,\n",
        " n_estimators= 20)\n",
        "estimator=[('gbc',gbc),('bc',bc),('dt',dt)]\n",
        "\n",
        "ML(VotingClassifier(estimators=estimator))"
      ],
      "metadata": {
        "id": "7fgFq585ZUB-",
        "colab": {
          "base_uri": "https://localhost:8080/"
        },
        "outputId": "87891a3f-4d12-4ea7-a54c-79a7580171e8"
      },
      "execution_count": 128,
      "outputs": [
        {
          "output_type": "stream",
          "name": "stdout",
          "text": [
            "cv_mean_score=0.9195\n",
            "\n",
            "\n",
            "[CV] START .....................................................................\n"
          ]
        },
        {
          "output_type": "stream",
          "name": "stderr",
          "text": [
            "[Parallel(n_jobs=1)]: Using backend SequentialBackend with 1 concurrent workers.\n"
          ]
        },
        {
          "output_type": "stream",
          "name": "stdout",
          "text": [
            "[CV] END ..................., score=(train=0.986, test=0.910) total time=   2.9s\n",
            "[CV] START .....................................................................\n"
          ]
        },
        {
          "output_type": "stream",
          "name": "stderr",
          "text": [
            "[Parallel(n_jobs=1)]: Done   1 out of   1 | elapsed:    2.9s remaining:    0.0s\n"
          ]
        },
        {
          "output_type": "stream",
          "name": "stdout",
          "text": [
            "[CV] END ..................., score=(train=0.987, test=0.925) total time=   2.9s\n",
            "[CV] START .....................................................................\n"
          ]
        },
        {
          "output_type": "stream",
          "name": "stderr",
          "text": [
            "[Parallel(n_jobs=1)]: Done   2 out of   2 | elapsed:    5.8s remaining:    0.0s\n"
          ]
        },
        {
          "output_type": "stream",
          "name": "stdout",
          "text": [
            "[CV] END ..................., score=(train=0.991, test=0.915) total time=   2.9s\n",
            "[CV] START .....................................................................\n"
          ]
        },
        {
          "output_type": "stream",
          "name": "stderr",
          "text": [
            "[Parallel(n_jobs=1)]: Done   3 out of   3 | elapsed:    8.7s remaining:    0.0s\n"
          ]
        },
        {
          "output_type": "stream",
          "name": "stdout",
          "text": [
            "[CV] END ..................., score=(train=0.990, test=0.930) total time=   4.6s\n",
            "[CV] START .....................................................................\n"
          ]
        },
        {
          "output_type": "stream",
          "name": "stderr",
          "text": [
            "[Parallel(n_jobs=1)]: Done   4 out of   4 | elapsed:   13.4s remaining:    0.0s\n"
          ]
        },
        {
          "output_type": "stream",
          "name": "stdout",
          "text": [
            "[CV] END ..................., score=(train=0.990, test=0.922) total time=   3.0s\n",
            "Cross validate scores={'fit_time': array([2.83940721, 2.87950683, 2.86944103, 4.57229757, 2.96768737]), 'score_time': array([0.01227474, 0.0125761 , 0.01422   , 0.01352262, 0.01229048]), 'estimator': [VotingClassifier(estimators=[('gbc', GradientBoostingClassifier()),\n",
            "                             ('bc',\n",
            "                              BaggingClassifier(base_estimator=LogisticRegression(),\n",
            "                                                bootstrap_features=True,\n",
            "                                                max_samples=0.8,\n",
            "                                                n_estimators=20)),\n",
            "                             ('dt',\n",
            "                              DecisionTreeClassifier(criterion='entropy',\n",
            "                                                     max_depth=45,\n",
            "                                                     min_samples_leaf=5,\n",
            "                                                     min_samples_split=10))]), VotingClassifier(estimators=[('gbc', GradientBoostingClassifier()),\n",
            "                             ('bc',\n",
            "                              BaggingClassifier(base_estimator=LogisticRegression(),\n",
            "                                                bootstrap_features=True,\n",
            "                                                max_samples=0.8,\n",
            "                                                n_estimators=20)),\n",
            "                             ('dt',\n",
            "                              DecisionTreeClassifier(criterion='entropy',\n",
            "                                                     max_depth=45,\n",
            "                                                     min_samples_leaf=5,\n",
            "                                                     min_samples_split=10))]), VotingClassifier(estimators=[('gbc', GradientBoostingClassifier()),\n",
            "                             ('bc',\n",
            "                              BaggingClassifier(base_estimator=LogisticRegression(),\n",
            "                                                bootstrap_features=True,\n",
            "                                                max_samples=0.8,\n",
            "                                                n_estimators=20)),\n",
            "                             ('dt',\n",
            "                              DecisionTreeClassifier(criterion='entropy',\n",
            "                                                     max_depth=45,\n",
            "                                                     min_samples_leaf=5,\n",
            "                                                     min_samples_split=10))]), VotingClassifier(estimators=[('gbc', GradientBoostingClassifier()),\n",
            "                             ('bc',\n",
            "                              BaggingClassifier(base_estimator=LogisticRegression(),\n",
            "                                                bootstrap_features=True,\n",
            "                                                max_samples=0.8,\n",
            "                                                n_estimators=20)),\n",
            "                             ('dt',\n",
            "                              DecisionTreeClassifier(criterion='entropy',\n",
            "                                                     max_depth=45,\n",
            "                                                     min_samples_leaf=5,\n",
            "                                                     min_samples_split=10))]), VotingClassifier(estimators=[('gbc', GradientBoostingClassifier()),\n",
            "                             ('bc',\n",
            "                              BaggingClassifier(base_estimator=LogisticRegression(),\n",
            "                                                bootstrap_features=True,\n",
            "                                                max_samples=0.8,\n",
            "                                                n_estimators=20)),\n",
            "                             ('dt',\n",
            "                              DecisionTreeClassifier(criterion='entropy',\n",
            "                                                     max_depth=45,\n",
            "                                                     min_samples_leaf=5,\n",
            "                                                     min_samples_split=10))])], 'test_score': array([0.91  , 0.925 , 0.915 , 0.93  , 0.9225]), 'train_score': array([0.98625 , 0.986875, 0.990625, 0.99    , 0.99    ])}\n",
            "\n",
            "\n",
            "\n",
            "\n",
            "Classification Report = \n",
            "               precision    recall  f1-score   support\n",
            "\n",
            "           0       0.97      0.90      0.94       105\n",
            "           1       0.87      0.94      0.90       101\n",
            "           2       0.93      0.92      0.92        95\n",
            "           3       0.96      0.96      0.96        99\n",
            "\n",
            "    accuracy                           0.93       400\n",
            "   macro avg       0.93      0.93      0.93       400\n",
            "weighted avg       0.93      0.93      0.93       400\n",
            "\n"
          ]
        },
        {
          "output_type": "stream",
          "name": "stderr",
          "text": [
            "[Parallel(n_jobs=1)]: Done   5 out of   5 | elapsed:   16.4s remaining:    0.0s\n",
            "[Parallel(n_jobs=1)]: Done   5 out of   5 | elapsed:   16.4s finished\n"
          ]
        }
      ]
    },
    {
      "cell_type": "markdown",
      "source": [
        "#### **Hyperparameter tunning for Voting**"
      ],
      "metadata": {
        "id": "prNnaZa68DDI"
      }
    },
    {
      "cell_type": "code",
      "source": [
        "# hyperparameter tunning of voting\n",
        "\n",
        "# from sklearn.model_selection import cross_val_score\n",
        "# for i in range(1,5):\n",
        "#   for j in range(1,5):\n",
        "#     for k in range(1,5):\n",
        "#       for l in range(1,5):\n",
        "#       # mean cross_val_score for Voting\n",
        "#        vr=VotingClassifier(estimators=estimator,weights=[i,j,k,l])\n",
        "#        score = cross_val_score(vr,x_transformed,df['price_range'],scoring='accuracy',cv= 10)\n",
        "#        print(f'for ({i},{j},{k},{l}) vr mean_cv_score={np.mean(score)}')"
      ],
      "metadata": {
        "id": "-UhKLqmKZ2GE"
      },
      "execution_count": null,
      "outputs": []
    },
    {
      "cell_type": "markdown",
      "source": [
        "### **Stacking**"
      ],
      "metadata": {
        "id": "4K8UrJRGuxBD"
      }
    },
    {
      "cell_type": "code",
      "source": [
        "# import stacking regressor from sklearn ensemble\n",
        "from sklearn.ensemble import StackingClassifier"
      ],
      "metadata": {
        "id": "CUlKm1wg4ZaH"
      },
      "execution_count": 51,
      "outputs": []
    },
    {
      "cell_type": "code",
      "source": [
        "#Base Estimators \n",
        "estimators = [('gbc',GradientBoostingClassifier()),('xgb',XGBClassifier(colsample_bytree=0.7, gamma=0.3, learning_rate=0.25, max_depth=15,\n",
        "              min_child_weight=3, objective='multi:softprob')),\n",
        "       ('bc',BaggingClassifier(base_estimator= SVC(C= 5, kernel= 'linear'),\n",
        " bootstrap= True,\n",
        " bootstrap_features= True,\n",
        " max_features= 1.0,\n",
        " max_samples= 0.8,\n",
        " n_estimators= 20))]\n",
        "\n",
        "\n",
        "# Stacking\n",
        "ML(StackingClassifier(estimators=estimators,final_estimator=lR,passthrough=True,n_jobs=-1))\n",
        "    "
      ],
      "metadata": {
        "colab": {
          "base_uri": "https://localhost:8080/"
        },
        "outputId": "cf032f83-e123-435b-8dad-62d16197fcf7",
        "id": "jSElEQ6h4ZaI"
      },
      "execution_count": 56,
      "outputs": [
        {
          "output_type": "stream",
          "name": "stdout",
          "text": [
            "cv_mean_score=0.953\n",
            "\n",
            "\n",
            "[CV] START .....................................................................\n"
          ]
        },
        {
          "output_type": "stream",
          "name": "stderr",
          "text": [
            "[Parallel(n_jobs=1)]: Using backend SequentialBackend with 1 concurrent workers.\n"
          ]
        },
        {
          "output_type": "stream",
          "name": "stdout",
          "text": [
            "[CV] END ..................., score=(train=0.996, test=0.948) total time=  27.1s\n",
            "[CV] START .....................................................................\n"
          ]
        },
        {
          "output_type": "stream",
          "name": "stderr",
          "text": [
            "[Parallel(n_jobs=1)]: Done   1 out of   1 | elapsed:   27.7s remaining:    0.0s\n"
          ]
        },
        {
          "output_type": "stream",
          "name": "stdout",
          "text": [
            "[CV] END ..................., score=(train=0.993, test=0.938) total time=  26.3s\n",
            "[CV] START .....................................................................\n"
          ]
        },
        {
          "output_type": "stream",
          "name": "stderr",
          "text": [
            "[Parallel(n_jobs=1)]: Done   2 out of   2 | elapsed:   54.4s remaining:    0.0s\n"
          ]
        },
        {
          "output_type": "stream",
          "name": "stdout",
          "text": [
            "[CV] END ..................., score=(train=0.998, test=0.948) total time=  38.8s\n",
            "[CV] START .....................................................................\n"
          ]
        },
        {
          "output_type": "stream",
          "name": "stderr",
          "text": [
            "[Parallel(n_jobs=1)]: Done   3 out of   3 | elapsed:  1.6min remaining:    0.0s\n"
          ]
        },
        {
          "output_type": "stream",
          "name": "stdout",
          "text": [
            "[CV] END ..................., score=(train=0.998, test=0.945) total time=  37.0s\n",
            "[CV] START .....................................................................\n"
          ]
        },
        {
          "output_type": "stream",
          "name": "stderr",
          "text": [
            "[Parallel(n_jobs=1)]: Done   4 out of   4 | elapsed:  2.2min remaining:    0.0s\n"
          ]
        },
        {
          "output_type": "stream",
          "name": "stdout",
          "text": [
            "[CV] END ..................., score=(train=0.999, test=0.935) total time=  26.2s\n",
            "Cross validate scores={'fit_time': array([26.95487452, 26.16253519, 38.65897775, 36.88260031, 26.10559702]), 'score_time': array([0.14321852, 0.12304592, 0.13822126, 0.12304211, 0.12307882]), 'estimator': [StackingClassifier(estimators=[('gbc', GradientBoostingClassifier()),\n",
            "                               ('xgb',\n",
            "                                XGBClassifier(colsample_bytree=0.7, gamma=0.3,\n",
            "                                              learning_rate=0.25, max_depth=15,\n",
            "                                              min_child_weight=3,\n",
            "                                              objective='multi:softprob')),\n",
            "                               ('bc',\n",
            "                                BaggingClassifier(base_estimator=SVC(C=5,\n",
            "                                                                     kernel='linear'),\n",
            "                                                  bootstrap_features=True,\n",
            "                                                  max_samples=0.8,\n",
            "                                                  n_estimators=20))],\n",
            "                   final_estimator=LogisticRegression(), n_jobs=-1,\n",
            "                   passthrough=True), StackingClassifier(estimators=[('gbc', GradientBoostingClassifier()),\n",
            "                               ('xgb',\n",
            "                                XGBClassifier(colsample_bytree=0.7, gamma=0.3,\n",
            "                                              learning_rate=0.25, max_depth=15,\n",
            "                                              min_child_weight=3,\n",
            "                                              objective='multi:softprob')),\n",
            "                               ('bc',\n",
            "                                BaggingClassifier(base_estimator=SVC(C=5,\n",
            "                                                                     kernel='linear'),\n",
            "                                                  bootstrap_features=True,\n",
            "                                                  max_samples=0.8,\n",
            "                                                  n_estimators=20))],\n",
            "                   final_estimator=LogisticRegression(), n_jobs=-1,\n",
            "                   passthrough=True), StackingClassifier(estimators=[('gbc', GradientBoostingClassifier()),\n",
            "                               ('xgb',\n",
            "                                XGBClassifier(colsample_bytree=0.7, gamma=0.3,\n",
            "                                              learning_rate=0.25, max_depth=15,\n",
            "                                              min_child_weight=3,\n",
            "                                              objective='multi:softprob')),\n",
            "                               ('bc',\n",
            "                                BaggingClassifier(base_estimator=SVC(C=5,\n",
            "                                                                     kernel='linear'),\n",
            "                                                  bootstrap_features=True,\n",
            "                                                  max_samples=0.8,\n",
            "                                                  n_estimators=20))],\n",
            "                   final_estimator=LogisticRegression(), n_jobs=-1,\n",
            "                   passthrough=True), StackingClassifier(estimators=[('gbc', GradientBoostingClassifier()),\n",
            "                               ('xgb',\n",
            "                                XGBClassifier(colsample_bytree=0.7, gamma=0.3,\n",
            "                                              learning_rate=0.25, max_depth=15,\n",
            "                                              min_child_weight=3,\n",
            "                                              objective='multi:softprob')),\n",
            "                               ('bc',\n",
            "                                BaggingClassifier(base_estimator=SVC(C=5,\n",
            "                                                                     kernel='linear'),\n",
            "                                                  bootstrap_features=True,\n",
            "                                                  max_samples=0.8,\n",
            "                                                  n_estimators=20))],\n",
            "                   final_estimator=LogisticRegression(), n_jobs=-1,\n",
            "                   passthrough=True), StackingClassifier(estimators=[('gbc', GradientBoostingClassifier()),\n",
            "                               ('xgb',\n",
            "                                XGBClassifier(colsample_bytree=0.7, gamma=0.3,\n",
            "                                              learning_rate=0.25, max_depth=15,\n",
            "                                              min_child_weight=3,\n",
            "                                              objective='multi:softprob')),\n",
            "                               ('bc',\n",
            "                                BaggingClassifier(base_estimator=SVC(C=5,\n",
            "                                                                     kernel='linear'),\n",
            "                                                  bootstrap_features=True,\n",
            "                                                  max_samples=0.8,\n",
            "                                                  n_estimators=20))],\n",
            "                   final_estimator=LogisticRegression(), n_jobs=-1,\n",
            "                   passthrough=True)], 'test_score': array([0.9475, 0.9375, 0.9475, 0.945 , 0.935 ]), 'train_score': array([0.995625, 0.993125, 0.9975  , 0.998125, 0.99875 ])}\n",
            "\n",
            "\n",
            "\n",
            "\n",
            "Classification Report = \n",
            "               precision    recall  f1-score   support\n",
            "\n",
            "           0       0.99      0.93      0.96       104\n",
            "           1       0.91      0.98      0.94       101\n",
            "           2       0.96      0.95      0.95        95\n",
            "           3       0.98      0.97      0.97       100\n",
            "\n",
            "    accuracy                           0.96       400\n",
            "   macro avg       0.96      0.96      0.96       400\n",
            "weighted avg       0.96      0.96      0.96       400\n",
            "\n"
          ]
        },
        {
          "output_type": "stream",
          "name": "stderr",
          "text": [
            "[Parallel(n_jobs=1)]: Done   5 out of   5 | elapsed:  2.6min remaining:    0.0s\n",
            "[Parallel(n_jobs=1)]: Done   5 out of   5 | elapsed:  2.6min finished\n"
          ]
        }
      ]
    },
    {
      "cell_type": "markdown",
      "source": [
        " Out of all the models, Stacking Classifier performs the best with **95** CV_mean_score and **96%** accuracy."
      ],
      "metadata": {
        "id": "FsiR98AjwMXP"
      }
    }
  ]
}